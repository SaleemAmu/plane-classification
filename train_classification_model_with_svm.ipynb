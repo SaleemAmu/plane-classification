{
  "nbformat": 4,
  "nbformat_minor": 0,
  "metadata": {
    "colab": {
      "name": "train_classification_model_with_svm.ipynb",
      "provenance": [],
      "collapsed_sections": [],
      "include_colab_link": true
    },
    "kernelspec": {
      "name": "python3",
      "display_name": "Python 3"
    },
    "language_info": {
      "name": "python"
    },
    "accelerator": "TPU"
  },
  "cells": [
    {
      "cell_type": "markdown",
      "metadata": {
        "id": "view-in-github",
        "colab_type": "text"
      },
      "source": [
        "<a href=\"https://colab.research.google.com/github/SaleemAmu/plane-classification/blob/main/train_classification_model_with_svm.ipynb\" target=\"_parent\"><img src=\"https://colab.research.google.com/assets/colab-badge.svg\" alt=\"Open In Colab\"/></a>"
      ]
    },
    {
      "cell_type": "markdown",
      "source": [
        "# Download data"
      ],
      "metadata": {
        "id": "95v47EIaFYjo"
      }
    },
    {
      "cell_type": "code",
      "source": [
        ""
      ],
      "metadata": {
        "id": "3GpnmVQqQuT7"
      },
      "execution_count": null,
      "outputs": []
    },
    {
      "cell_type": "code",
      "execution_count": null,
      "metadata": {
        "id": "o9lp3J0DYuEc",
        "colab": {
          "base_uri": "https://localhost:8080/"
        },
        "outputId": "7fb0bbfa-0a06-4cab-deb1-eedaa6f5dcf3"
      },
      "outputs": [
        {
          "output_type": "stream",
          "name": "stdout",
          "text": [
            "  % Total    % Received % Xferd  Average Speed   Time    Time     Time  Current\n",
            "                                 Dload  Upload   Total   Spent    Left  Speed\n",
            "100 2625M  100 2625M    0     0  28.8M      0  0:01:31  0:01:31 --:--:-- 29.3M\n",
            "mv: cannot move 'fgvc-aircraft-2013b' to 'dataset/fgvc-aircraft-2013b': Directory not empty\n"
          ]
        }
      ],
      "source": [
        "# curl: download data and save to file\n",
        "! curl -O https://www.robots.ox.ac.uk/~vgg/data/fgvc-aircraft/archives/fgvc-aircraft-2013b.tar.gz\n",
        "! tar xzf fgvc-aircraft-2013b.tar.gz\n",
        "!mv fgvc-aircraft-2013b dataset"
      ]
    },
    {
      "cell_type": "markdown",
      "source": [
        "# Import Libraries"
      ],
      "metadata": {
        "id": "nnvrQkuZqWCh"
      }
    },
    {
      "cell_type": "code",
      "source": [
        "\n",
        "import pathlib\n",
        "\n",
        "import matplotlib.pyplot as plt\n",
        "import numpy as np\n",
        "import pandas as pd\n",
        "import seaborn as sns\n",
        "import tensorflow as tf\n",
        "\n",
        "from sklearn.model_selection import train_test_split\n",
        "import keras\n",
        "from keras.models import Sequential, load_model\n",
        "from keras.layers import Conv2D, MaxPool2D, Dense, Flatten, Dropout\n",
        "\n",
        "from PIL import Image\n",
        "\n"
      ],
      "metadata": {
        "id": "OvXWEsokbX7j"
      },
      "execution_count": null,
      "outputs": []
    },
    {
      "cell_type": "code",
      "source": [
        "# verify version keras\n",
        "keras.__version__"
      ],
      "metadata": {
        "id": "ZtFTkBS7bbkj",
        "colab": {
          "base_uri": "https://localhost:8080/",
          "height": 35
        },
        "outputId": "d41efe0c-b34b-45de-aa2d-1ed2e9d34d66"
      },
      "execution_count": null,
      "outputs": [
        {
          "output_type": "execute_result",
          "data": {
            "text/plain": [
              "'2.8.0'"
            ],
            "application/vnd.google.colaboratory.intrinsic+json": {
              "type": "string"
            }
          },
          "metadata": {},
          "execution_count": 3
        }
      ]
    },
    {
      "cell_type": "markdown",
      "source": [
        "# Constante\n"
      ],
      "metadata": {
        "id": "XEvwELl5N70C"
      }
    },
    {
      "cell_type": "code",
      "source": [
        "#DATA_DIR = pathlib.Path('dataset/data')# pep8 : proposition d'amelioration de python\n",
        "#DATA_DIR\n",
        "\n",
        "#IMAGE_WIDTH = 128\n",
        "#IMAGE_HEIGHT = IMAGE_WIDTH\n",
        "#IMAGE_DEPTH = 3"
      ],
      "metadata": {
        "id": "ALbR5Nc0bkaL"
      },
      "execution_count": null,
      "outputs": []
    },
    {
      "cell_type": "code",
      "source": [
        "from google.colab import drive\n",
        "drive.mount('/content/drive')"
      ],
      "metadata": {
        "id": "2E0Rubh3_0OI",
        "colab": {
          "base_uri": "https://localhost:8080/"
        },
        "outputId": "091c2844-cf5b-4a44-8124-a503edbce8a7"
      },
      "execution_count": null,
      "outputs": [
        {
          "output_type": "stream",
          "name": "stdout",
          "text": [
            "Drive already mounted at /content/drive; to attempt to forcibly remount, call drive.mount(\"/content/drive\", force_remount=True).\n"
          ]
        }
      ]
    },
    {
      "cell_type": "code",
      "source": [
        "import yaml\n",
        "#import yaml\n",
        "\n",
        "yaml_file = open(\"/content/drive/MyDrive/model/learn.yaml\", 'r')\n",
        "yaml_content = yaml.load(yaml_file)\n",
        "\n",
        "print(\"Key: Value\")\n",
        "for key, value in yaml_content.items():\n",
        "   print(f\"{key}: {value}\")\n"
      ],
      "metadata": {
        "id": "L8XOu8mdReZu",
        "colab": {
          "base_uri": "https://localhost:8080/"
        },
        "outputId": "4ed149cd-0a06-4af6-b4d2-f9d793664669"
      },
      "execution_count": null,
      "outputs": [
        {
          "output_type": "stream",
          "name": "stdout",
          "text": [
            "Key: Value\n",
            "IMAGE_WIDTH: 128\n",
            "IMAGE_HEIGHT: IMAGE_WIDTH\n",
            "IMAGE_DEPTH: 3\n",
            "DATA_DIR_TRAIN_MANUFACTURER: /content/dataset/data/images_manufacturer_train.txt\n",
            "DATA_DIR_TRAIN_FAMILY: /content/dataset/data/images_family_train.txt\n",
            "DATA_DIR_TRAIN_VARIANT: /content/dataset/data/images_variant_train.txt\n",
            "DATA_DIR_TEST_MANUFACTURER: /content/dataset/data/images_manufacturer_test.txt\n",
            "DATA_DIR_TEST_FAMILY: /content/dataset/data/images_family_test.txt\n",
            "DATA_DIR_TEST_VARIANT: /content/dataset/data/images_variant_test.txt\n",
            "TARGET_NAME: manufacturer\n",
            "TARGET_NAME2: family\n",
            "TARGET_NAME3: variant\n"
          ]
        }
      ]
    },
    {
      "cell_type": "code",
      "source": [
        "\n",
        "DATA_DIR = yaml_content['DATA_DIR_TRAIN_FAMILY']\n",
        "IMAGE_WIDTH = yaml_content['IMAGE_WIDTH']\n",
        "IMAGE_HEIGHT = yaml_content['IMAGE_WIDTH']\n",
        "IMAGE_DEPTH = yaml_content['IMAGE_DEPTH']\n",
        "TARGET_NAME = yaml_content['TARGET_NAME']\n",
        "TARGET_NAME2 = yaml_content['TARGET_NAME2']\n",
        "TARGET_NAME3 = yaml_content['TARGET_NAME3']\n",
        "DATA_DIR_TRAIN_MANUFACTURER = yaml_content['DATA_DIR_TRAIN_MANUFACTURER']\n",
        "DATA_DIR_TRAIN_FAMILY = yaml_content['DATA_DIR_TRAIN_FAMILY']\n",
        "DATA_DIR_TRAIN_VARIANT = yaml_content['DATA_DIR_TRAIN_VARIANT']\n",
        "DATA_DIR_TEST_MANUFACTURER = yaml_content['DATA_DIR_TEST_MANUFACTURER']\n",
        "DATA_DIR_TEST_FAMILY = yaml_content['DATA_DIR_TEST_FAMILY']\n",
        "DATA_DIR_TEST_VARIANT = yaml_content['DATA_DIR_TEST_VARIANT']"
      ],
      "metadata": {
        "id": "8tXDicYiH7ZZ"
      },
      "execution_count": null,
      "outputs": []
    },
    {
      "cell_type": "markdown",
      "source": [
        "# Function buil_image_database()"
      ],
      "metadata": {
        "id": "z3n8a7AeFwgA"
      }
    },
    {
      "cell_type": "code",
      "source": [
        "# allow to build our image database\n",
        "def build_image_database(path, target):\n",
        "    \"\"\"Build a pandas dataframe with target class and access path to images.\n",
        "   \n",
        "    Parameters\n",
        "    - - - - - -\n",
        "    path (Path): path patern to read csv file containing images information.\n",
        "    target (str): name of the target column.\n",
        "   \n",
        "    Returns\n",
        "    - - - - -\n",
        "    A pandas dataframe, including target class and path to image.\n",
        "    \"\"\"\n",
        "   \n",
        "   \n",
        "    _df = pd.read_csv(path, sep='\\t',\n",
        "            names=['all'],\n",
        "            dtype={'all': str} # ids are not int but string\n",
        "            )\n",
        "\n",
        "    # la fonction split() découpe sur une chaîne de charatères\n",
        "    _df['image_id'] = _df['all'].apply(lambda x: x.split(' ')[0])\n",
        "\n",
        "    # la fonction '<car>'.join(liste) concatène les éléments de liste en utilisant le séparateur <car>\n",
        "    _df[target] = _df['all'].apply(lambda x: ' '.join(x.split(' ')[1:]))\n",
        "\n",
        "    # la colonne path contient le chemin d'accès à l'image\n",
        "    _df['path'] = _df['image_id'].apply(lambda x:  pathlib.Path('dataset/data/images') / (x + '.jpg'))\n",
        "\n",
        "    return _df.drop(columns=['all'])"
      ],
      "metadata": {
        "id": "59Ca_cLdMesa"
      },
      "execution_count": null,
      "outputs": []
    },
    {
      "cell_type": "markdown",
      "source": [
        "## Verify of the function build_image_database()"
      ],
      "metadata": {
        "id": "EDxRYQkTF-Qd"
      }
    },
    {
      "cell_type": "code",
      "source": [
        "# apply build_image_database()\n",
        "build_image_database(DATA_DIR_TRAIN_FAMILY, TARGET_NAME2).head(2)"
      ],
      "metadata": {
        "id": "eVe6kzTBCxno",
        "colab": {
          "base_uri": "https://localhost:8080/",
          "height": 112
        },
        "outputId": "2b37cc60-c628-4392-b737-063d97b8acbd"
      },
      "execution_count": null,
      "outputs": [
        {
          "output_type": "execute_result",
          "data": {
            "text/plain": [
              "  image_id      family                             path\n",
              "0  1025794  Boeing 707  dataset/data/images/1025794.jpg\n",
              "1  1340192  Boeing 707  dataset/data/images/1340192.jpg"
            ],
            "text/html": [
              "\n",
              "  <div id=\"df-879f1be9-915b-4a3f-a5d2-52f4d0873fbb\">\n",
              "    <div class=\"colab-df-container\">\n",
              "      <div>\n",
              "<style scoped>\n",
              "    .dataframe tbody tr th:only-of-type {\n",
              "        vertical-align: middle;\n",
              "    }\n",
              "\n",
              "    .dataframe tbody tr th {\n",
              "        vertical-align: top;\n",
              "    }\n",
              "\n",
              "    .dataframe thead th {\n",
              "        text-align: right;\n",
              "    }\n",
              "</style>\n",
              "<table border=\"1\" class=\"dataframe\">\n",
              "  <thead>\n",
              "    <tr style=\"text-align: right;\">\n",
              "      <th></th>\n",
              "      <th>image_id</th>\n",
              "      <th>family</th>\n",
              "      <th>path</th>\n",
              "    </tr>\n",
              "  </thead>\n",
              "  <tbody>\n",
              "    <tr>\n",
              "      <th>0</th>\n",
              "      <td>1025794</td>\n",
              "      <td>Boeing 707</td>\n",
              "      <td>dataset/data/images/1025794.jpg</td>\n",
              "    </tr>\n",
              "    <tr>\n",
              "      <th>1</th>\n",
              "      <td>1340192</td>\n",
              "      <td>Boeing 707</td>\n",
              "      <td>dataset/data/images/1340192.jpg</td>\n",
              "    </tr>\n",
              "  </tbody>\n",
              "</table>\n",
              "</div>\n",
              "      <button class=\"colab-df-convert\" onclick=\"convertToInteractive('df-879f1be9-915b-4a3f-a5d2-52f4d0873fbb')\"\n",
              "              title=\"Convert this dataframe to an interactive table.\"\n",
              "              style=\"display:none;\">\n",
              "        \n",
              "  <svg xmlns=\"http://www.w3.org/2000/svg\" height=\"24px\"viewBox=\"0 0 24 24\"\n",
              "       width=\"24px\">\n",
              "    <path d=\"M0 0h24v24H0V0z\" fill=\"none\"/>\n",
              "    <path d=\"M18.56 5.44l.94 2.06.94-2.06 2.06-.94-2.06-.94-.94-2.06-.94 2.06-2.06.94zm-11 1L8.5 8.5l.94-2.06 2.06-.94-2.06-.94L8.5 2.5l-.94 2.06-2.06.94zm10 10l.94 2.06.94-2.06 2.06-.94-2.06-.94-.94-2.06-.94 2.06-2.06.94z\"/><path d=\"M17.41 7.96l-1.37-1.37c-.4-.4-.92-.59-1.43-.59-.52 0-1.04.2-1.43.59L10.3 9.45l-7.72 7.72c-.78.78-.78 2.05 0 2.83L4 21.41c.39.39.9.59 1.41.59.51 0 1.02-.2 1.41-.59l7.78-7.78 2.81-2.81c.8-.78.8-2.07 0-2.86zM5.41 20L4 18.59l7.72-7.72 1.47 1.35L5.41 20z\"/>\n",
              "  </svg>\n",
              "      </button>\n",
              "      \n",
              "  <style>\n",
              "    .colab-df-container {\n",
              "      display:flex;\n",
              "      flex-wrap:wrap;\n",
              "      gap: 12px;\n",
              "    }\n",
              "\n",
              "    .colab-df-convert {\n",
              "      background-color: #E8F0FE;\n",
              "      border: none;\n",
              "      border-radius: 50%;\n",
              "      cursor: pointer;\n",
              "      display: none;\n",
              "      fill: #1967D2;\n",
              "      height: 32px;\n",
              "      padding: 0 0 0 0;\n",
              "      width: 32px;\n",
              "    }\n",
              "\n",
              "    .colab-df-convert:hover {\n",
              "      background-color: #E2EBFA;\n",
              "      box-shadow: 0px 1px 2px rgba(60, 64, 67, 0.3), 0px 1px 3px 1px rgba(60, 64, 67, 0.15);\n",
              "      fill: #174EA6;\n",
              "    }\n",
              "\n",
              "    [theme=dark] .colab-df-convert {\n",
              "      background-color: #3B4455;\n",
              "      fill: #D2E3FC;\n",
              "    }\n",
              "\n",
              "    [theme=dark] .colab-df-convert:hover {\n",
              "      background-color: #434B5C;\n",
              "      box-shadow: 0px 1px 3px 1px rgba(0, 0, 0, 0.15);\n",
              "      filter: drop-shadow(0px 1px 2px rgba(0, 0, 0, 0.3));\n",
              "      fill: #FFFFFF;\n",
              "    }\n",
              "  </style>\n",
              "\n",
              "      <script>\n",
              "        const buttonEl =\n",
              "          document.querySelector('#df-879f1be9-915b-4a3f-a5d2-52f4d0873fbb button.colab-df-convert');\n",
              "        buttonEl.style.display =\n",
              "          google.colab.kernel.accessAllowed ? 'block' : 'none';\n",
              "\n",
              "        async function convertToInteractive(key) {\n",
              "          const element = document.querySelector('#df-879f1be9-915b-4a3f-a5d2-52f4d0873fbb');\n",
              "          const dataTable =\n",
              "            await google.colab.kernel.invokeFunction('convertToInteractive',\n",
              "                                                     [key], {});\n",
              "          if (!dataTable) return;\n",
              "\n",
              "          const docLinkHtml = 'Like what you see? Visit the ' +\n",
              "            '<a target=\"_blank\" href=https://colab.research.google.com/notebooks/data_table.ipynb>data table notebook</a>'\n",
              "            + ' to learn more about interactive tables.';\n",
              "          element.innerHTML = '';\n",
              "          dataTable['output_type'] = 'display_data';\n",
              "          await google.colab.output.renderOutput(dataTable, element);\n",
              "          const docLink = document.createElement('div');\n",
              "          docLink.innerHTML = docLinkHtml;\n",
              "          element.appendChild(docLink);\n",
              "        }\n",
              "      </script>\n",
              "    </div>\n",
              "  </div>\n",
              "  "
            ]
          },
          "metadata": {},
          "execution_count": 49
        }
      ]
    },
    {
      "cell_type": "code",
      "source": [
        "# apply build_image_database()\n",
        "build_image_database(DATA_DIR_TRAIN_VARIANT, TARGET_NAME3).head(2)"
      ],
      "metadata": {
        "id": "WhAbs0kzIGWA",
        "colab": {
          "base_uri": "https://localhost:8080/",
          "height": 112
        },
        "outputId": "6a4a7c75-261d-4dde-e952-eff6ec168655"
      },
      "execution_count": null,
      "outputs": [
        {
          "output_type": "execute_result",
          "data": {
            "text/plain": [
              "  image_id  variant                             path\n",
              "0  1025794  707-320  dataset/data/images/1025794.jpg\n",
              "1  1340192  707-320  dataset/data/images/1340192.jpg"
            ],
            "text/html": [
              "\n",
              "  <div id=\"df-42fcd057-e7f2-45a2-b5cd-1aabee2d0df6\">\n",
              "    <div class=\"colab-df-container\">\n",
              "      <div>\n",
              "<style scoped>\n",
              "    .dataframe tbody tr th:only-of-type {\n",
              "        vertical-align: middle;\n",
              "    }\n",
              "\n",
              "    .dataframe tbody tr th {\n",
              "        vertical-align: top;\n",
              "    }\n",
              "\n",
              "    .dataframe thead th {\n",
              "        text-align: right;\n",
              "    }\n",
              "</style>\n",
              "<table border=\"1\" class=\"dataframe\">\n",
              "  <thead>\n",
              "    <tr style=\"text-align: right;\">\n",
              "      <th></th>\n",
              "      <th>image_id</th>\n",
              "      <th>variant</th>\n",
              "      <th>path</th>\n",
              "    </tr>\n",
              "  </thead>\n",
              "  <tbody>\n",
              "    <tr>\n",
              "      <th>0</th>\n",
              "      <td>1025794</td>\n",
              "      <td>707-320</td>\n",
              "      <td>dataset/data/images/1025794.jpg</td>\n",
              "    </tr>\n",
              "    <tr>\n",
              "      <th>1</th>\n",
              "      <td>1340192</td>\n",
              "      <td>707-320</td>\n",
              "      <td>dataset/data/images/1340192.jpg</td>\n",
              "    </tr>\n",
              "  </tbody>\n",
              "</table>\n",
              "</div>\n",
              "      <button class=\"colab-df-convert\" onclick=\"convertToInteractive('df-42fcd057-e7f2-45a2-b5cd-1aabee2d0df6')\"\n",
              "              title=\"Convert this dataframe to an interactive table.\"\n",
              "              style=\"display:none;\">\n",
              "        \n",
              "  <svg xmlns=\"http://www.w3.org/2000/svg\" height=\"24px\"viewBox=\"0 0 24 24\"\n",
              "       width=\"24px\">\n",
              "    <path d=\"M0 0h24v24H0V0z\" fill=\"none\"/>\n",
              "    <path d=\"M18.56 5.44l.94 2.06.94-2.06 2.06-.94-2.06-.94-.94-2.06-.94 2.06-2.06.94zm-11 1L8.5 8.5l.94-2.06 2.06-.94-2.06-.94L8.5 2.5l-.94 2.06-2.06.94zm10 10l.94 2.06.94-2.06 2.06-.94-2.06-.94-.94-2.06-.94 2.06-2.06.94z\"/><path d=\"M17.41 7.96l-1.37-1.37c-.4-.4-.92-.59-1.43-.59-.52 0-1.04.2-1.43.59L10.3 9.45l-7.72 7.72c-.78.78-.78 2.05 0 2.83L4 21.41c.39.39.9.59 1.41.59.51 0 1.02-.2 1.41-.59l7.78-7.78 2.81-2.81c.8-.78.8-2.07 0-2.86zM5.41 20L4 18.59l7.72-7.72 1.47 1.35L5.41 20z\"/>\n",
              "  </svg>\n",
              "      </button>\n",
              "      \n",
              "  <style>\n",
              "    .colab-df-container {\n",
              "      display:flex;\n",
              "      flex-wrap:wrap;\n",
              "      gap: 12px;\n",
              "    }\n",
              "\n",
              "    .colab-df-convert {\n",
              "      background-color: #E8F0FE;\n",
              "      border: none;\n",
              "      border-radius: 50%;\n",
              "      cursor: pointer;\n",
              "      display: none;\n",
              "      fill: #1967D2;\n",
              "      height: 32px;\n",
              "      padding: 0 0 0 0;\n",
              "      width: 32px;\n",
              "    }\n",
              "\n",
              "    .colab-df-convert:hover {\n",
              "      background-color: #E2EBFA;\n",
              "      box-shadow: 0px 1px 2px rgba(60, 64, 67, 0.3), 0px 1px 3px 1px rgba(60, 64, 67, 0.15);\n",
              "      fill: #174EA6;\n",
              "    }\n",
              "\n",
              "    [theme=dark] .colab-df-convert {\n",
              "      background-color: #3B4455;\n",
              "      fill: #D2E3FC;\n",
              "    }\n",
              "\n",
              "    [theme=dark] .colab-df-convert:hover {\n",
              "      background-color: #434B5C;\n",
              "      box-shadow: 0px 1px 3px 1px rgba(0, 0, 0, 0.15);\n",
              "      filter: drop-shadow(0px 1px 2px rgba(0, 0, 0, 0.3));\n",
              "      fill: #FFFFFF;\n",
              "    }\n",
              "  </style>\n",
              "\n",
              "      <script>\n",
              "        const buttonEl =\n",
              "          document.querySelector('#df-42fcd057-e7f2-45a2-b5cd-1aabee2d0df6 button.colab-df-convert');\n",
              "        buttonEl.style.display =\n",
              "          google.colab.kernel.accessAllowed ? 'block' : 'none';\n",
              "\n",
              "        async function convertToInteractive(key) {\n",
              "          const element = document.querySelector('#df-42fcd057-e7f2-45a2-b5cd-1aabee2d0df6');\n",
              "          const dataTable =\n",
              "            await google.colab.kernel.invokeFunction('convertToInteractive',\n",
              "                                                     [key], {});\n",
              "          if (!dataTable) return;\n",
              "\n",
              "          const docLinkHtml = 'Like what you see? Visit the ' +\n",
              "            '<a target=\"_blank\" href=https://colab.research.google.com/notebooks/data_table.ipynb>data table notebook</a>'\n",
              "            + ' to learn more about interactive tables.';\n",
              "          element.innerHTML = '';\n",
              "          dataTable['output_type'] = 'display_data';\n",
              "          await google.colab.output.renderOutput(dataTable, element);\n",
              "          const docLink = document.createElement('div');\n",
              "          docLink.innerHTML = docLinkHtml;\n",
              "          element.appendChild(docLink);\n",
              "        }\n",
              "      </script>\n",
              "    </div>\n",
              "  </div>\n",
              "  "
            ]
          },
          "metadata": {},
          "execution_count": 86
        }
      ]
    },
    {
      "cell_type": "code",
      "source": [
        "# apply build_image_database() in order to create the dataframe manufacturer_df\n",
        "manufacturer_df = build_image_database(DATA_DIR_TRAIN_MANUFACTURER,TARGET_NAME)"
      ],
      "metadata": {
        "id": "44RmtSvmIZP_"
      },
      "execution_count": null,
      "outputs": []
    },
    {
      "cell_type": "code",
      "source": [
        "# see the dataframe manufacturer_df\n",
        "manufacturer_df.head(2)"
      ],
      "metadata": {
        "colab": {
          "base_uri": "https://localhost:8080/",
          "height": 112
        },
        "id": "Kz8uHHeGK1gN",
        "outputId": "4c8fa30d-ff97-4843-ee6c-106085877442"
      },
      "execution_count": null,
      "outputs": [
        {
          "output_type": "execute_result",
          "data": {
            "text/plain": [
              "  image_id manufacturer                             path\n",
              "0  1025794       Boeing  dataset/data/images/1025794.jpg\n",
              "1  1340192       Boeing  dataset/data/images/1340192.jpg"
            ],
            "text/html": [
              "\n",
              "  <div id=\"df-ec0ae924-2e6f-46df-abdc-8f2284f08fd3\">\n",
              "    <div class=\"colab-df-container\">\n",
              "      <div>\n",
              "<style scoped>\n",
              "    .dataframe tbody tr th:only-of-type {\n",
              "        vertical-align: middle;\n",
              "    }\n",
              "\n",
              "    .dataframe tbody tr th {\n",
              "        vertical-align: top;\n",
              "    }\n",
              "\n",
              "    .dataframe thead th {\n",
              "        text-align: right;\n",
              "    }\n",
              "</style>\n",
              "<table border=\"1\" class=\"dataframe\">\n",
              "  <thead>\n",
              "    <tr style=\"text-align: right;\">\n",
              "      <th></th>\n",
              "      <th>image_id</th>\n",
              "      <th>manufacturer</th>\n",
              "      <th>path</th>\n",
              "    </tr>\n",
              "  </thead>\n",
              "  <tbody>\n",
              "    <tr>\n",
              "      <th>0</th>\n",
              "      <td>1025794</td>\n",
              "      <td>Boeing</td>\n",
              "      <td>dataset/data/images/1025794.jpg</td>\n",
              "    </tr>\n",
              "    <tr>\n",
              "      <th>1</th>\n",
              "      <td>1340192</td>\n",
              "      <td>Boeing</td>\n",
              "      <td>dataset/data/images/1340192.jpg</td>\n",
              "    </tr>\n",
              "  </tbody>\n",
              "</table>\n",
              "</div>\n",
              "      <button class=\"colab-df-convert\" onclick=\"convertToInteractive('df-ec0ae924-2e6f-46df-abdc-8f2284f08fd3')\"\n",
              "              title=\"Convert this dataframe to an interactive table.\"\n",
              "              style=\"display:none;\">\n",
              "        \n",
              "  <svg xmlns=\"http://www.w3.org/2000/svg\" height=\"24px\"viewBox=\"0 0 24 24\"\n",
              "       width=\"24px\">\n",
              "    <path d=\"M0 0h24v24H0V0z\" fill=\"none\"/>\n",
              "    <path d=\"M18.56 5.44l.94 2.06.94-2.06 2.06-.94-2.06-.94-.94-2.06-.94 2.06-2.06.94zm-11 1L8.5 8.5l.94-2.06 2.06-.94-2.06-.94L8.5 2.5l-.94 2.06-2.06.94zm10 10l.94 2.06.94-2.06 2.06-.94-2.06-.94-.94-2.06-.94 2.06-2.06.94z\"/><path d=\"M17.41 7.96l-1.37-1.37c-.4-.4-.92-.59-1.43-.59-.52 0-1.04.2-1.43.59L10.3 9.45l-7.72 7.72c-.78.78-.78 2.05 0 2.83L4 21.41c.39.39.9.59 1.41.59.51 0 1.02-.2 1.41-.59l7.78-7.78 2.81-2.81c.8-.78.8-2.07 0-2.86zM5.41 20L4 18.59l7.72-7.72 1.47 1.35L5.41 20z\"/>\n",
              "  </svg>\n",
              "      </button>\n",
              "      \n",
              "  <style>\n",
              "    .colab-df-container {\n",
              "      display:flex;\n",
              "      flex-wrap:wrap;\n",
              "      gap: 12px;\n",
              "    }\n",
              "\n",
              "    .colab-df-convert {\n",
              "      background-color: #E8F0FE;\n",
              "      border: none;\n",
              "      border-radius: 50%;\n",
              "      cursor: pointer;\n",
              "      display: none;\n",
              "      fill: #1967D2;\n",
              "      height: 32px;\n",
              "      padding: 0 0 0 0;\n",
              "      width: 32px;\n",
              "    }\n",
              "\n",
              "    .colab-df-convert:hover {\n",
              "      background-color: #E2EBFA;\n",
              "      box-shadow: 0px 1px 2px rgba(60, 64, 67, 0.3), 0px 1px 3px 1px rgba(60, 64, 67, 0.15);\n",
              "      fill: #174EA6;\n",
              "    }\n",
              "\n",
              "    [theme=dark] .colab-df-convert {\n",
              "      background-color: #3B4455;\n",
              "      fill: #D2E3FC;\n",
              "    }\n",
              "\n",
              "    [theme=dark] .colab-df-convert:hover {\n",
              "      background-color: #434B5C;\n",
              "      box-shadow: 0px 1px 3px 1px rgba(0, 0, 0, 0.15);\n",
              "      filter: drop-shadow(0px 1px 2px rgba(0, 0, 0, 0.3));\n",
              "      fill: #FFFFFF;\n",
              "    }\n",
              "  </style>\n",
              "\n",
              "      <script>\n",
              "        const buttonEl =\n",
              "          document.querySelector('#df-ec0ae924-2e6f-46df-abdc-8f2284f08fd3 button.colab-df-convert');\n",
              "        buttonEl.style.display =\n",
              "          google.colab.kernel.accessAllowed ? 'block' : 'none';\n",
              "\n",
              "        async function convertToInteractive(key) {\n",
              "          const element = document.querySelector('#df-ec0ae924-2e6f-46df-abdc-8f2284f08fd3');\n",
              "          const dataTable =\n",
              "            await google.colab.kernel.invokeFunction('convertToInteractive',\n",
              "                                                     [key], {});\n",
              "          if (!dataTable) return;\n",
              "\n",
              "          const docLinkHtml = 'Like what you see? Visit the ' +\n",
              "            '<a target=\"_blank\" href=https://colab.research.google.com/notebooks/data_table.ipynb>data table notebook</a>'\n",
              "            + ' to learn more about interactive tables.';\n",
              "          element.innerHTML = '';\n",
              "          dataTable['output_type'] = 'display_data';\n",
              "          await google.colab.output.renderOutput(dataTable, element);\n",
              "          const docLink = document.createElement('div');\n",
              "          docLink.innerHTML = docLinkHtml;\n",
              "          element.appendChild(docLink);\n",
              "        }\n",
              "      </script>\n",
              "    </div>\n",
              "  </div>\n",
              "  "
            ]
          },
          "metadata": {},
          "execution_count": 12
        }
      ]
    },
    {
      "cell_type": "code",
      "source": [
        "# show the image in manufacturer_df\n",
        "plt.imshow(plt.imread(manufacturer_df.head(1)['path'].values[0]))"
      ],
      "metadata": {
        "colab": {
          "base_uri": "https://localhost:8080/",
          "height": 285
        },
        "id": "57hgqhFxK1aA",
        "outputId": "d0c1ee18-c31e-4ef3-a913-034c37293a56"
      },
      "execution_count": 119,
      "outputs": [
        {
          "output_type": "execute_result",
          "data": {
            "text/plain": [
              "<matplotlib.image.AxesImage at 0x7f3d033f1ed0>"
            ]
          },
          "metadata": {},
          "execution_count": 119
        },
        {
          "output_type": "display_data",
          "data": {
            "text/plain": [
              "<Figure size 432x288 with 1 Axes>"
            ],
            "image/png": "[encoded data removed]"
          },
          "metadata": {
            "needs_background": "light"
          }
        }
      ]
    },
    {
      "cell_type": "markdown",
      "source": [
        "# Function Show_image()"
      ],
      "metadata": {
        "id": "sIMCGp5FGnbp"
      }
    },
    {
      "cell_type": "code",
      "source": [
        "# the function :\n",
        "# - take a df(argument)\n",
        "#-take a row(row : argument)\n",
        "#-take a column (target : argument)\n",
        "# -it displays (the value of target ) and the associated image, for the line in argument\n",
        "\n",
        "\n",
        "def show_image(df, row, target):\n",
        "  \"\"\" Show an image from an image database , with the associated class\n",
        "\n",
        "  Parameters\n",
        "  -----------\n",
        "  df(pd.DataFrame): images definition dataframe\n",
        "  row(int):row index in df of image to be displayed\n",
        "  target(str):name of target column\n",
        "\n",
        "  Returns\n",
        "  --------\n",
        "  None\n",
        "  \"\"\"\n",
        "  assert target in df.columns, \"missing target column in dataframe\"\n",
        "  assert 'path' in df.columns , \"Missing image path in dataframe\"\n",
        "  print(df.iloc[row, ][target])\n",
        "  plt.imshow(plt.imread(df.iloc[row, ]['path']))\n",
        "  return"
      ],
      "metadata": {
        "id": "AbO-nbSRK1Xm"
      },
      "execution_count": null,
      "outputs": []
    },
    {
      "cell_type": "markdown",
      "source": [
        "# Function load_resize_image()"
      ],
      "metadata": {
        "id": "67U_itomGw0v"
      }
    },
    {
      "cell_type": "code",
      "source": [
        "def load_resize_image(path,height,width):\n",
        "  \"\"\"Load an image and resize it to the target size\n",
        "    Parameters\n",
        "    --------\n",
        "    path(Path): access path to image file\n",
        "    height(int): resize image to this height\n",
        "    width(int):resize image to this width\n",
        "\n",
        "    Returns\n",
        "    ----------\n",
        "    nb.array containing resize\n",
        "\n",
        "\n",
        "\n",
        "  \"\"\"\n",
        "  \n",
        "  return np.array(Image.open(path).resize((width, height)))"
      ],
      "metadata": {
        "id": "gTtdausuoh7k"
      },
      "execution_count": null,
      "outputs": []
    },
    {
      "cell_type": "markdown",
      "source": [
        "# Function build_classifiaction_model()"
      ],
      "metadata": {
        "id": "eO708SzkG5r4"
      }
    },
    {
      "cell_type": "code",
      "source": [
        "def build_classification_model(df:pd.DataFrame, target:str, images:str):\n",
        "  \"\"\"Build a TF model using information from target and images columns in dataframe\n",
        "\n",
        "  Parameters\n",
        "  ---------------\n",
        "  df(pd.Dataframe):dataframe with target and images columns\n",
        "  target(str):column name for target variable\n",
        "  images(str):column name for images\n",
        "\n",
        "\n",
        "  Returns\n",
        "  -----------\n",
        "  TF model built & compiled\n",
        "  \"\"\"\n",
        "  nb_classes=df[target].nunique()# compute number of classees for output layer\n",
        "  size = df[images].iloc[0].shape# com\n",
        "  #Building the model\n",
        "  model = Sequential()\n",
        "  model.add(Conv2D(filters=32, kernel_size=(5,5), activation='relu', input_shape=size))\n",
        "  model.add(Conv2D(filters=32, kernel_size=(5,5), activation='relu'))\n",
        "  model.add(MaxPool2D(pool_size=(2, 2)))\n",
        "  model.add(Dropout(rate=0.25))\n",
        "  model.add(Conv2D(filters=64, kernel_size=(3, 3), activation='relu'))\n",
        "  model.add(Conv2D(filters=64, kernel_size=(3, 3), activation='relu'))\n",
        "  model.add(MaxPool2D(pool_size=(2, 2)))\n",
        "  model.add(Dropout(rate=0.25))\n",
        "  model.add(Flatten())\n",
        "  model.add(Dense(256, activation='relu'))\n",
        "  model.add(Dropout(rate=0.5))\n",
        "  model.add(Dense(nb_classes, activation='softmax'))# couche de sortie à nb_classes\n",
        "\n",
        "  # #Compilation of the model\n",
        "  model.compile(loss='categorical_crossentropy', optimizer='adam', metrics=['accuracy'])\n",
        "\n",
        "  return model"
      ],
      "metadata": {
        "id": "MPnxAzrlcCnl"
      },
      "execution_count": null,
      "outputs": []
    },
    {
      "cell_type": "markdown",
      "source": [
        "# Function build_x_and_y()\n",
        "\n",
        "Build train & test set"
      ],
      "metadata": {
        "id": "7SSRwFkPEciw"
      }
    },
    {
      "cell_type": "code",
      "source": [
        "def build_x_and_y(df:pd.DataFrame,target:str,images:str,stratify=None):\n",
        "  \"\"\"Build x tensor and y tensor for model fitting \n",
        "\n",
        "  Parameters\n",
        "  --------------\n",
        "  df(pd.DataFrame):dataframe contanining images and target\n",
        "  target(str):name of target column\n",
        "  images(str): name of images column\n",
        "  \n",
        "  Returns\n",
        "  ---------\n",
        "  x(np.array):tensor of x values\n",
        "  y(np.array):name of y values\n",
        "  \"\"\"\n",
        "  x=np.array(df[images].to_list())\n",
        "  y= tf.keras.utils.to_categorical(df[target].astype('category').cat.codes)\n",
        "  y_svm = np.array(df[target].astype(\"category\").cat.codes)\n",
        " \n",
        "\n",
        "  return x, y, y_svm\n"
      ],
      "metadata": {
        "id": "WNDw6_38h64w"
      },
      "execution_count": null,
      "outputs": []
    },
    {
      "cell_type": "code",
      "source": [
        "# Load train & test dataset\n",
        "\n",
        "train_df= build_image_database(DATA_DIR_TRAIN_FAMILY,TARGET_NAME2)\n",
        "test_df= build_image_database(DATA_DIR_TEST_FAMILY,TARGET_NAME2)\n",
        "\n",
        "train_df['resized_image']=train_df.apply(lambda r:load_resize_image(r['path'],IMAGE_HEIGHT,IMAGE_WIDTH),axis=1)\n",
        "\n",
        "test_df['resized_image']=test_df.apply(lambda r:load_resize_image(r['path'],IMAGE_HEIGHT,IMAGE_WIDTH),axis=1)\n",
        "#train_df\n",
        "# Build tensors for training & testing\n",
        "\n",
        "X_train,y_train,y_train_svm = build_x_and_y(train_df,TARGET_NAME2,'resized_image')\n",
        "X_test,y_test,y_test_svm = build_x_and_y(test_df,TARGET_NAME2,'resized_image')\n",
        "\n",
        "# BUILD TF classification model\n",
        "model = build_classification_model(train_df,TARGET_NAME2,'resized_image')\n"
      ],
      "metadata": {
        "id": "BrzoBXw0kNbS"
      },
      "execution_count": null,
      "outputs": []
    },
    {
      "cell_type": "code",
      "source": [
        "X_train.shape"
      ],
      "metadata": {
        "colab": {
          "base_uri": "https://localhost:8080/"
        },
        "id": "bQhYlGld9onw",
        "outputId": "51467563-0d39-4e01-928a-129c53b9bf1d"
      },
      "execution_count": null,
      "outputs": [
        {
          "output_type": "execute_result",
          "data": {
            "text/plain": [
              "(3334, 128, 128, 3)"
            ]
          },
          "metadata": {},
          "execution_count": 97
        }
      ]
    },
    {
      "cell_type": "markdown",
      "source": [
        "train model"
      ],
      "metadata": {
        "id": "HtsP55sPJex_"
      }
    },
    {
      "cell_type": "code",
      "source": [
        "# To be done once to retrieve the TPU information\n",
        "try:\n",
        "  tpu = tf.distribute.cluster_resolver.TPUClusterResolver()  # TPU detection\n",
        "  print('Running on TPU ', tpu.cluster_spec().as_dict()['worker'])\n",
        "except ValueError:\n",
        "  raise BaseException('ERROR: Not connected to a TPU runtime; please see the previous cell in this notebook for instructions!')\n",
        "\n",
        "tf.config.experimental_connect_to_cluster(tpu)\n",
        "tf.tpu.experimental.initialize_tpu_system(tpu)\n",
        "tpu_strategy = tf.distribute.experimental.TPUStrategy(tpu)"
      ],
      "metadata": {
        "colab": {
          "base_uri": "https://localhost:8080/"
        },
        "id": "M1yW1Sh7JdKU",
        "outputId": "5ac0984e-6fe0-4cb3-b355-8d937047bc17"
      },
      "execution_count": null,
      "outputs": [
        {
          "output_type": "stream",
          "name": "stdout",
          "text": [
            "Running on TPU  ['10.115.213.18:8470']\n",
            "INFO:tensorflow:Deallocate tpu buffers before initializing tpu system.\n"
          ]
        },
        {
          "output_type": "stream",
          "name": "stderr",
          "text": [
            "INFO:tensorflow:Deallocate tpu buffers before initializing tpu system.\n"
          ]
        },
        {
          "output_type": "stream",
          "name": "stdout",
          "text": [
            "INFO:tensorflow:Initializing the TPU system: grpc://10.115.213.18:8470\n"
          ]
        },
        {
          "output_type": "stream",
          "name": "stderr",
          "text": [
            "INFO:tensorflow:Initializing the TPU system: grpc://10.115.213.18:8470\n"
          ]
        },
        {
          "output_type": "stream",
          "name": "stdout",
          "text": [
            "INFO:tensorflow:Finished initializing TPU system.\n"
          ]
        },
        {
          "output_type": "stream",
          "name": "stderr",
          "text": [
            "INFO:tensorflow:Finished initializing TPU system.\n",
            "WARNING:absl:`tf.distribute.experimental.TPUStrategy` is deprecated, please use  the non experimental symbol `tf.distribute.TPUStrategy` instead.\n"
          ]
        },
        {
          "output_type": "stream",
          "name": "stdout",
          "text": [
            "INFO:tensorflow:Found TPU system:\n"
          ]
        },
        {
          "output_type": "stream",
          "name": "stderr",
          "text": [
            "INFO:tensorflow:Found TPU system:\n"
          ]
        },
        {
          "output_type": "stream",
          "name": "stdout",
          "text": [
            "INFO:tensorflow:*** Num TPU Cores: 8\n"
          ]
        },
        {
          "output_type": "stream",
          "name": "stderr",
          "text": [
            "INFO:tensorflow:*** Num TPU Cores: 8\n"
          ]
        },
        {
          "output_type": "stream",
          "name": "stdout",
          "text": [
            "INFO:tensorflow:*** Num TPU Workers: 1\n"
          ]
        },
        {
          "output_type": "stream",
          "name": "stderr",
          "text": [
            "INFO:tensorflow:*** Num TPU Workers: 1\n"
          ]
        },
        {
          "output_type": "stream",
          "name": "stdout",
          "text": [
            "INFO:tensorflow:*** Num TPU Cores Per Worker: 8\n"
          ]
        },
        {
          "output_type": "stream",
          "name": "stderr",
          "text": [
            "INFO:tensorflow:*** Num TPU Cores Per Worker: 8\n"
          ]
        },
        {
          "output_type": "stream",
          "name": "stdout",
          "text": [
            "INFO:tensorflow:*** Available Device: _DeviceAttributes(/job:localhost/replica:0/task:0/device:CPU:0, CPU, 0, 0)\n"
          ]
        },
        {
          "output_type": "stream",
          "name": "stderr",
          "text": [
            "INFO:tensorflow:*** Available Device: _DeviceAttributes(/job:localhost/replica:0/task:0/device:CPU:0, CPU, 0, 0)\n"
          ]
        },
        {
          "output_type": "stream",
          "name": "stdout",
          "text": [
            "INFO:tensorflow:*** Available Device: _DeviceAttributes(/job:worker/replica:0/task:0/device:CPU:0, CPU, 0, 0)\n"
          ]
        },
        {
          "output_type": "stream",
          "name": "stderr",
          "text": [
            "INFO:tensorflow:*** Available Device: _DeviceAttributes(/job:worker/replica:0/task:0/device:CPU:0, CPU, 0, 0)\n"
          ]
        },
        {
          "output_type": "stream",
          "name": "stdout",
          "text": [
            "INFO:tensorflow:*** Available Device: _DeviceAttributes(/job:worker/replica:0/task:0/device:TPU:0, TPU, 0, 0)\n"
          ]
        },
        {
          "output_type": "stream",
          "name": "stderr",
          "text": [
            "INFO:tensorflow:*** Available Device: _DeviceAttributes(/job:worker/replica:0/task:0/device:TPU:0, TPU, 0, 0)\n"
          ]
        },
        {
          "output_type": "stream",
          "name": "stdout",
          "text": [
            "INFO:tensorflow:*** Available Device: _DeviceAttributes(/job:worker/replica:0/task:0/device:TPU:1, TPU, 0, 0)\n"
          ]
        },
        {
          "output_type": "stream",
          "name": "stderr",
          "text": [
            "INFO:tensorflow:*** Available Device: _DeviceAttributes(/job:worker/replica:0/task:0/device:TPU:1, TPU, 0, 0)\n"
          ]
        },
        {
          "output_type": "stream",
          "name": "stdout",
          "text": [
            "INFO:tensorflow:*** Available Device: _DeviceAttributes(/job:worker/replica:0/task:0/device:TPU:2, TPU, 0, 0)\n"
          ]
        },
        {
          "output_type": "stream",
          "name": "stderr",
          "text": [
            "INFO:tensorflow:*** Available Device: _DeviceAttributes(/job:worker/replica:0/task:0/device:TPU:2, TPU, 0, 0)\n"
          ]
        },
        {
          "output_type": "stream",
          "name": "stdout",
          "text": [
            "INFO:tensorflow:*** Available Device: _DeviceAttributes(/job:worker/replica:0/task:0/device:TPU:3, TPU, 0, 0)\n"
          ]
        },
        {
          "output_type": "stream",
          "name": "stderr",
          "text": [
            "INFO:tensorflow:*** Available Device: _DeviceAttributes(/job:worker/replica:0/task:0/device:TPU:3, TPU, 0, 0)\n"
          ]
        },
        {
          "output_type": "stream",
          "name": "stdout",
          "text": [
            "INFO:tensorflow:*** Available Device: _DeviceAttributes(/job:worker/replica:0/task:0/device:TPU:4, TPU, 0, 0)\n"
          ]
        },
        {
          "output_type": "stream",
          "name": "stderr",
          "text": [
            "INFO:tensorflow:*** Available Device: _DeviceAttributes(/job:worker/replica:0/task:0/device:TPU:4, TPU, 0, 0)\n"
          ]
        },
        {
          "output_type": "stream",
          "name": "stdout",
          "text": [
            "INFO:tensorflow:*** Available Device: _DeviceAttributes(/job:worker/replica:0/task:0/device:TPU:5, TPU, 0, 0)\n"
          ]
        },
        {
          "output_type": "stream",
          "name": "stderr",
          "text": [
            "INFO:tensorflow:*** Available Device: _DeviceAttributes(/job:worker/replica:0/task:0/device:TPU:5, TPU, 0, 0)\n"
          ]
        },
        {
          "output_type": "stream",
          "name": "stdout",
          "text": [
            "INFO:tensorflow:*** Available Device: _DeviceAttributes(/job:worker/replica:0/task:0/device:TPU:6, TPU, 0, 0)\n"
          ]
        },
        {
          "output_type": "stream",
          "name": "stderr",
          "text": [
            "INFO:tensorflow:*** Available Device: _DeviceAttributes(/job:worker/replica:0/task:0/device:TPU:6, TPU, 0, 0)\n"
          ]
        },
        {
          "output_type": "stream",
          "name": "stdout",
          "text": [
            "INFO:tensorflow:*** Available Device: _DeviceAttributes(/job:worker/replica:0/task:0/device:TPU:7, TPU, 0, 0)\n"
          ]
        },
        {
          "output_type": "stream",
          "name": "stderr",
          "text": [
            "INFO:tensorflow:*** Available Device: _DeviceAttributes(/job:worker/replica:0/task:0/device:TPU:7, TPU, 0, 0)\n"
          ]
        },
        {
          "output_type": "stream",
          "name": "stdout",
          "text": [
            "INFO:tensorflow:*** Available Device: _DeviceAttributes(/job:worker/replica:0/task:0/device:TPU_SYSTEM:0, TPU_SYSTEM, 0, 0)\n"
          ]
        },
        {
          "output_type": "stream",
          "name": "stderr",
          "text": [
            "INFO:tensorflow:*** Available Device: _DeviceAttributes(/job:worker/replica:0/task:0/device:TPU_SYSTEM:0, TPU_SYSTEM, 0, 0)\n"
          ]
        },
        {
          "output_type": "stream",
          "name": "stdout",
          "text": [
            "INFO:tensorflow:*** Available Device: _DeviceAttributes(/job:worker/replica:0/task:0/device:XLA_CPU:0, XLA_CPU, 0, 0)\n"
          ]
        },
        {
          "output_type": "stream",
          "name": "stderr",
          "text": [
            "INFO:tensorflow:*** Available Device: _DeviceAttributes(/job:worker/replica:0/task:0/device:XLA_CPU:0, XLA_CPU, 0, 0)\n"
          ]
        }
      ]
    },
    {
      "cell_type": "code",
      "source": [
        "with tpu_strategy.scope():\n",
        "  model= build_classification_model(train_df, TARGET_NAME2, 'resized_image')\n",
        "\n",
        "model.summary()"
      ],
      "metadata": {
        "colab": {
          "base_uri": "https://localhost:8080/"
        },
        "id": "118s5S5rUo68",
        "outputId": "d32a06a7-1efc-4247-c59b-44b4dd354787"
      },
      "execution_count": null,
      "outputs": [
        {
          "output_type": "stream",
          "name": "stdout",
          "text": [
            "Model: \"sequential_1\"\n",
            "_________________________________________________________________\n",
            " Layer (type)                Output Shape              Param #   \n",
            "=================================================================\n",
            " conv2d_4 (Conv2D)           (None, 124, 124, 32)      2432      \n",
            "                                                                 \n",
            " conv2d_5 (Conv2D)           (None, 120, 120, 32)      25632     \n",
            "                                                                 \n",
            " max_pooling2d_2 (MaxPooling  (None, 60, 60, 32)       0         \n",
            " 2D)                                                             \n",
            "                                                                 \n",
            " dropout_3 (Dropout)         (None, 60, 60, 32)        0         \n",
            "                                                                 \n",
            " conv2d_6 (Conv2D)           (None, 58, 58, 64)        18496     \n",
            "                                                                 \n",
            " conv2d_7 (Conv2D)           (None, 56, 56, 64)        36928     \n",
            "                                                                 \n",
            " max_pooling2d_3 (MaxPooling  (None, 28, 28, 64)       0         \n",
            " 2D)                                                             \n",
            "                                                                 \n",
            " dropout_4 (Dropout)         (None, 28, 28, 64)        0         \n",
            "                                                                 \n",
            " flatten_1 (Flatten)         (None, 50176)             0         \n",
            "                                                                 \n",
            " dense_2 (Dense)             (None, 256)               12845312  \n",
            "                                                                 \n",
            " dropout_5 (Dropout)         (None, 256)               0         \n",
            "                                                                 \n",
            " dense_3 (Dense)             (None, 70)                17990     \n",
            "                                                                 \n",
            "=================================================================\n",
            "Total params: 12,946,790\n",
            "Trainable params: 12,946,790\n",
            "Non-trainable params: 0\n",
            "_________________________________________________________________\n"
          ]
        }
      ]
    },
    {
      "cell_type": "code",
      "source": [
        "%%time\n",
        "epochs = 30\n",
        "history = model.fit(X_train, y_train, batch_size=96, epochs=epochs, \n",
        "                    validation_data=(X_test, y_test),\n",
        "                    #callbacks=[tensorboard_callback]\n",
        "                    )"
      ],
      "metadata": {
        "colab": {
          "base_uri": "https://localhost:8080/"
        },
        "id": "gydZpo6XUyTi",
        "outputId": "a729d969-68c0-4a4a-fba7-80a9afb42910"
      },
      "execution_count": null,
      "outputs": [
        {
          "output_type": "stream",
          "name": "stdout",
          "text": [
            "Epoch 1/30\n",
            "35/35 [==============================] - 39s 809ms/step - loss: 14.2030 - accuracy: 0.0435 - val_loss: 4.1275 - val_accuracy: 0.0801\n",
            "Epoch 2/30\n",
            "35/35 [==============================] - 3s 82ms/step - loss: 4.1504 - accuracy: 0.0750 - val_loss: 4.0863 - val_accuracy: 0.0801\n",
            "Epoch 3/30\n",
            "35/35 [==============================] - 3s 82ms/step - loss: 4.1268 - accuracy: 0.0798 - val_loss: 4.0885 - val_accuracy: 0.0801\n",
            "Epoch 4/30\n",
            "35/35 [==============================] - 3s 83ms/step - loss: 4.1032 - accuracy: 0.0798 - val_loss: 4.0828 - val_accuracy: 0.0801\n",
            "Epoch 5/30\n",
            "35/35 [==============================] - 3s 83ms/step - loss: 4.0693 - accuracy: 0.0807 - val_loss: 4.0352 - val_accuracy: 0.0804\n",
            "Epoch 6/30\n",
            "35/35 [==============================] - 3s 81ms/step - loss: 4.0218 - accuracy: 0.0849 - val_loss: 3.9969 - val_accuracy: 0.0852\n",
            "Epoch 7/30\n",
            "35/35 [==============================] - 3s 85ms/step - loss: 3.9738 - accuracy: 0.0948 - val_loss: 3.9562 - val_accuracy: 0.0858\n",
            "Epoch 8/30\n",
            "35/35 [==============================] - 3s 82ms/step - loss: 3.8511 - accuracy: 0.0969 - val_loss: 3.9279 - val_accuracy: 0.0918\n",
            "Epoch 9/30\n",
            "35/35 [==============================] - 3s 83ms/step - loss: 3.7344 - accuracy: 0.1122 - val_loss: 3.9215 - val_accuracy: 0.0843\n",
            "Epoch 10/30\n",
            "35/35 [==============================] - 3s 84ms/step - loss: 3.5779 - accuracy: 0.1371 - val_loss: 3.8633 - val_accuracy: 0.0924\n",
            "Epoch 11/30\n",
            "35/35 [==============================] - 3s 93ms/step - loss: 3.3861 - accuracy: 0.1743 - val_loss: 3.8511 - val_accuracy: 0.1035\n",
            "Epoch 12/30\n",
            "35/35 [==============================] - 3s 82ms/step - loss: 3.2316 - accuracy: 0.1914 - val_loss: 3.8384 - val_accuracy: 0.1020\n",
            "Epoch 13/30\n",
            "35/35 [==============================] - 3s 82ms/step - loss: 3.0347 - accuracy: 0.2373 - val_loss: 3.7998 - val_accuracy: 0.1113\n",
            "Epoch 14/30\n",
            "35/35 [==============================] - 3s 81ms/step - loss: 2.7744 - accuracy: 0.2816 - val_loss: 3.7953 - val_accuracy: 0.1275\n",
            "Epoch 15/30\n",
            "35/35 [==============================] - 3s 84ms/step - loss: 2.6019 - accuracy: 0.3131 - val_loss: 3.8140 - val_accuracy: 0.1296\n",
            "Epoch 16/30\n",
            "35/35 [==============================] - 3s 83ms/step - loss: 2.4212 - accuracy: 0.3548 - val_loss: 3.9005 - val_accuracy: 0.1272\n",
            "Epoch 17/30\n",
            "35/35 [==============================] - 3s 83ms/step - loss: 2.3356 - accuracy: 0.3806 - val_loss: 3.8167 - val_accuracy: 0.1257\n",
            "Epoch 18/30\n",
            "35/35 [==============================] - 3s 84ms/step - loss: 2.2017 - accuracy: 0.4040 - val_loss: 3.8918 - val_accuracy: 0.1371\n",
            "Epoch 19/30\n",
            "35/35 [==============================] - 3s 84ms/step - loss: 2.0301 - accuracy: 0.4355 - val_loss: 3.9152 - val_accuracy: 0.1374\n",
            "Epoch 20/30\n",
            "35/35 [==============================] - 3s 82ms/step - loss: 1.9638 - accuracy: 0.4517 - val_loss: 3.8239 - val_accuracy: 0.1437\n",
            "Epoch 21/30\n",
            "35/35 [==============================] - 3s 83ms/step - loss: 1.8322 - accuracy: 0.4787 - val_loss: 3.9035 - val_accuracy: 0.1407\n",
            "Epoch 22/30\n",
            "35/35 [==============================] - 3s 82ms/step - loss: 1.7540 - accuracy: 0.5057 - val_loss: 3.9425 - val_accuracy: 0.1347\n",
            "Epoch 23/30\n",
            "35/35 [==============================] - 3s 82ms/step - loss: 1.6459 - accuracy: 0.5390 - val_loss: 3.9682 - val_accuracy: 0.1392\n",
            "Epoch 24/30\n",
            "35/35 [==============================] - 3s 83ms/step - loss: 1.5730 - accuracy: 0.5438 - val_loss: 4.0174 - val_accuracy: 0.1464\n",
            "Epoch 25/30\n",
            "35/35 [==============================] - 3s 82ms/step - loss: 1.4892 - accuracy: 0.5612 - val_loss: 4.0896 - val_accuracy: 0.1506\n",
            "Epoch 26/30\n",
            "35/35 [==============================] - 3s 83ms/step - loss: 1.4560 - accuracy: 0.5726 - val_loss: 4.1982 - val_accuracy: 0.1461\n",
            "Epoch 27/30\n",
            "35/35 [==============================] - 3s 82ms/step - loss: 1.3874 - accuracy: 0.5927 - val_loss: 4.0628 - val_accuracy: 0.1512\n",
            "Epoch 28/30\n",
            "35/35 [==============================] - 3s 82ms/step - loss: 1.3753 - accuracy: 0.5942 - val_loss: 4.1385 - val_accuracy: 0.1599\n",
            "Epoch 29/30\n",
            "35/35 [==============================] - 3s 82ms/step - loss: 1.2798 - accuracy: 0.6254 - val_loss: 4.2399 - val_accuracy: 0.1551\n",
            "Epoch 30/30\n",
            "35/35 [==============================] - 3s 82ms/step - loss: 1.2323 - accuracy: 0.6350 - val_loss: 4.4711 - val_accuracy: 0.1593\n",
            "CPU times: user 34.8 s, sys: 4.92 s, total: 39.7 s\n",
            "Wall time: 2min 6s\n"
          ]
        }
      ]
    },
    {
      "cell_type": "code",
      "source": [
        ""
      ],
      "metadata": {
        "id": "eELfusn9IOIS"
      },
      "execution_count": null,
      "outputs": []
    },
    {
      "cell_type": "code",
      "source": [
        "# verify the shape\n",
        "X_test[10:11].shape"
      ],
      "metadata": {
        "colab": {
          "base_uri": "https://localhost:8080/"
        },
        "id": "QRDApQmMVD8t",
        "outputId": "f185d7e8-8e71-4845-a4cc-fea796d525e2"
      },
      "execution_count": null,
      "outputs": [
        {
          "output_type": "execute_result",
          "data": {
            "text/plain": [
              "(1, 128, 128, 3)"
            ]
          },
          "metadata": {},
          "execution_count": 22
        }
      ]
    },
    {
      "cell_type": "code",
      "source": [
        "# the prediction of X_test[10:11]\n",
        "np.argmax(model.predict(X_test[10:11]))"
      ],
      "metadata": {
        "colab": {
          "base_uri": "https://localhost:8080/"
        },
        "id": "EvEqX6cyVF5Y",
        "outputId": "0ffac8b3-64c9-4f93-bcd6-3cebb9356ac9"
      },
      "execution_count": null,
      "outputs": [
        {
          "output_type": "execute_result",
          "data": {
            "text/plain": [
              "16"
            ]
          },
          "metadata": {},
          "execution_count": 23
        }
      ]
    },
    {
      "cell_type": "code",
      "source": [
        "# the probabilty of prediction of X_test[10:11]\n",
        "model.predict(X_test[10:11])"
      ],
      "metadata": {
        "colab": {
          "base_uri": "https://localhost:8080/"
        },
        "id": "6iZ94JhQvd9T",
        "outputId": "a70b82d3-4118-4c74-c947-ea4fbec431fc"
      },
      "execution_count": null,
      "outputs": [
        {
          "output_type": "execute_result",
          "data": {
            "text/plain": [
              "array([[8.9585856e-03, 2.8550362e-03, 9.0849260e-03, 2.4818597e-02,\n",
              "        7.5484835e-02, 8.7349107e-03, 3.2014765e-03, 3.4287301e-04,\n",
              "        2.0509793e-03, 6.6520944e-03, 7.7891944e-04, 1.9206614e-03,\n",
              "        1.9877192e-03, 5.4280629e-04, 2.4631994e-02, 7.3816635e-02,\n",
              "        3.9567783e-01, 3.2034090e-03, 2.0455243e-02, 1.4302105e-02,\n",
              "        6.9933746e-04, 1.7409646e-03, 2.8504359e-03, 3.4678376e-03,\n",
              "        5.0007651e-04, 1.7681072e-04, 2.5804285e-03, 4.5855106e-03,\n",
              "        8.7658269e-03, 1.0222701e-03, 3.0448148e-03, 5.7888605e-02,\n",
              "        6.6001373e-03, 1.4658748e-04, 4.3671927e-05, 1.6805135e-04,\n",
              "        1.5450582e-04, 1.0751619e-03, 6.1035575e-04, 3.8683347e-03,\n",
              "        3.2533107e-03, 3.3841946e-03, 3.8285980e-03, 9.4804792e-03,\n",
              "        5.9233448e-03, 9.5308488e-03, 4.6159662e-03, 1.4358450e-03,\n",
              "        1.8483322e-03, 1.3043113e-03, 2.3354422e-03, 4.2515448e-03,\n",
              "        2.3002928e-02, 1.0307523e-04, 9.9299839e-03, 8.8425144e-04,\n",
              "        7.0734508e-03, 9.3859117e-03, 3.7588209e-02, 2.4880727e-03,\n",
              "        1.0727020e-03, 1.1697949e-03, 4.1405157e-05, 1.0255110e-02,\n",
              "        4.1412557e-03, 1.2665442e-03, 7.2258618e-03, 5.6440732e-03,\n",
              "        1.7907817e-02, 3.0136073e-02]], dtype=float32)"
            ]
          },
          "metadata": {},
          "execution_count": 24
        }
      ]
    },
    {
      "cell_type": "code",
      "source": [
        "# see the categorisation of modality of manufacturer\n",
        "test_df[TARGET_NAME2].astype('category').cat.codes"
      ],
      "metadata": {
        "colab": {
          "base_uri": "https://localhost:8080/"
        },
        "id": "RYdKulT1VFuM",
        "outputId": "1b9c49da-950b-4173-be95-118df36b5ec9"
      },
      "execution_count": null,
      "outputs": [
        {
          "output_type": "execute_result",
          "data": {
            "text/plain": [
              "0       12\n",
              "1       12\n",
              "2       12\n",
              "3       12\n",
              "4       12\n",
              "        ..\n",
              "3328    69\n",
              "3329    69\n",
              "3330    69\n",
              "3331    69\n",
              "3332    69\n",
              "Length: 3333, dtype: int8"
            ]
          },
          "metadata": {},
          "execution_count": 25
        }
      ]
    },
    {
      "cell_type": "code",
      "source": [
        "# see the modality of manaufacturer\n",
        "test_df[TARGET_NAME2]"
      ],
      "metadata": {
        "colab": {
          "base_uri": "https://localhost:8080/"
        },
        "id": "S_j2GtAoVFhI",
        "outputId": "3e3fb2e0-dfe7-440a-d86a-2cb1b6048fc1"
      },
      "execution_count": null,
      "outputs": [
        {
          "output_type": "execute_result",
          "data": {
            "text/plain": [
              "0       Boeing 707\n",
              "1       Boeing 707\n",
              "2       Boeing 707\n",
              "3       Boeing 707\n",
              "4       Boeing 707\n",
              "           ...    \n",
              "3328        Yak-42\n",
              "3329        Yak-42\n",
              "3330        Yak-42\n",
              "3331        Yak-42\n",
              "3332        Yak-42\n",
              "Name: family, Length: 3333, dtype: object"
            ]
          },
          "metadata": {},
          "execution_count": 26
        }
      ]
    },
    {
      "cell_type": "code",
      "source": [
        "# show image of the row equal to 10 for the target manufacturer\n",
        "show_image(test_df, 10, TARGET_NAME2)"
      ],
      "metadata": {
        "colab": {
          "base_uri": "https://localhost:8080/",
          "height": 286
        },
        "id": "HILMlswUVovo",
        "outputId": "44471698-f5f4-49dc-8b0d-708848fd23f7"
      },
      "execution_count": null,
      "outputs": [
        {
          "output_type": "stream",
          "name": "stdout",
          "text": [
            "Boeing 707\n"
          ]
        },
        {
          "output_type": "display_data",
          "data": {
            "text/plain": [
              "<Figure size 432x288 with 1 Axes>"
            ],
            "image/png": "[encoded data removed]"
          },
          "metadata": {
            "needs_background": "light"
          }
        }
      ]
    },
    {
      "cell_type": "code",
      "source": [
        "# the prediction of X_test[10:20\n",
        "#np.argmax(model.predict(X_test[10:20]), axis=1)"
      ],
      "metadata": {
        "id": "T02N4x9JVt8_"
      },
      "execution_count": null,
      "outputs": []
    },
    {
      "cell_type": "code",
      "source": [
        "# see the modality from the categorisation\n",
        "train_df[TARGET_NAME2].astype('category').cat.categories"
      ],
      "metadata": {
        "colab": {
          "base_uri": "https://localhost:8080/"
        },
        "id": "2_JNe51ZVv8H",
        "outputId": "801892c2-401f-417e-d1b8-29dfc5161c84"
      },
      "execution_count": null,
      "outputs": [
        {
          "output_type": "execute_result",
          "data": {
            "text/plain": [
              "Index(['A300', 'A310', 'A320', 'A330', 'A340', 'A380', 'ATR-42', 'ATR-72',\n",
              "       'An-12', 'BAE 146', 'BAE-125', 'Beechcraft 1900', 'Boeing 707',\n",
              "       'Boeing 717', 'Boeing 727', 'Boeing 737', 'Boeing 747', 'Boeing 757',\n",
              "       'Boeing 767', 'Boeing 777', 'C-130', 'C-47', 'CRJ-200', 'CRJ-700',\n",
              "       'Cessna 172', 'Cessna 208', 'Cessna Citation', 'Challenger 600',\n",
              "       'DC-10', 'DC-3', 'DC-6', 'DC-8', 'DC-9', 'DH-82', 'DHC-1', 'DHC-6',\n",
              "       'DR-400', 'Dash 8', 'Dornier 328', 'EMB-120', 'Embraer E-Jet',\n",
              "       'Embraer ERJ 145', 'Embraer Legacy 600', 'Eurofighter Typhoon', 'F-16',\n",
              "       'F/A-18', 'Falcon 2000', 'Falcon 900', 'Fokker 100', 'Fokker 50',\n",
              "       'Fokker 70', 'Global Express', 'Gulfstream', 'Hawk T1', 'Il-76',\n",
              "       'King Air', 'L-1011', 'MD-11', 'MD-80', 'MD-90', 'Metroliner', 'PA-28',\n",
              "       'SR-20', 'Saab 2000', 'Saab 340', 'Spitfire', 'Tornado', 'Tu-134',\n",
              "       'Tu-154', 'Yak-42'],\n",
              "      dtype='object')"
            ]
          },
          "metadata": {},
          "execution_count": 29
        }
      ]
    },
    {
      "cell_type": "markdown",
      "source": [
        "# fucntion of the classify_image()"
      ],
      "metadata": {
        "id": "GBBXsMMEJgrV"
      }
    },
    {
      "cell_type": "code",
      "source": [
        "def classify_images(images, model, classes_names=None):\n",
        "  \"\"\"Classify images through a TF model.\n",
        "  Parameters\n",
        "  ----------\n",
        "  images (np.array): set of images to classify\n",
        "  model (tf.keras.Model): TF/ Keras model\n",
        "  classes_names: dictionnary with classes names\n",
        "  Returns\n",
        "  -------\n",
        "  predicted classes\n",
        "  \"\"\"\n",
        "\n",
        "  results = model.predict(images) # predict for images\n",
        "  classes = np.argmax(results, axis=1) # np.argmax returns the index of the max value per row\n",
        "  if classes_names is not None:\n",
        "    classes = np.array(classes_names[classes])\n",
        "  return classes"
      ],
      "metadata": {
        "id": "A7n6dOMtVv4r"
      },
      "execution_count": null,
      "outputs": []
    },
    {
      "cell_type": "code",
      "source": [
        "# verification of the shape of the function classify_image()\n",
        "classify_images(X_test, model).shape"
      ],
      "metadata": {
        "colab": {
          "base_uri": "https://localhost:8080/"
        },
        "id": "_sUWCLBcVv1n",
        "outputId": "fa542198-d26d-449f-e716-40a098e540b8"
      },
      "execution_count": null,
      "outputs": [
        {
          "output_type": "execute_result",
          "data": {
            "text/plain": [
              "(3333,)"
            ]
          },
          "metadata": {},
          "execution_count": 31
        }
      ]
    },
    {
      "cell_type": "code",
      "source": [
        "# see the confusion matrix in the train\n",
        "fig, ax = plt.subplots(figsize=(12,10))\n",
        "sns.heatmap(pd.crosstab(np.argmax(y_train, axis=1), \n",
        "                        classify_images(X_train, model), \n",
        "                        normalize='index'),\n",
        "            cmap='vlag',\n",
        "            ax=ax)"
      ],
      "metadata": {
        "colab": {
          "base_uri": "https://localhost:8080/",
          "height": 628
        },
        "id": "V5Bo22YcVvwZ",
        "outputId": "eb44973f-4a13-4b0a-9bb5-3f6c8984d5df"
      },
      "execution_count": null,
      "outputs": [
        {
          "output_type": "execute_result",
          "data": {
            "text/plain": [
              "<matplotlib.axes._subplots.AxesSubplot at 0x7f43c448f710>"
            ]
          },
          "metadata": {},
          "execution_count": 32
        },
        {
          "output_type": "display_data",
          "data": {
            "text/plain": [
              "<Figure size 864x720 with 2 Axes>"
            ],
            "image/png": "[encoded data removed]"
          },
          "metadata": {
            "needs_background": "light"
          }
        }
      ]
    },
    {
      "cell_type": "code",
      "source": [
        "# see the confusion matrix of the test\n",
        "#we can see our model classifies genelrally the planes in 4\n",
        "import seaborn as sns\n",
        "\n",
        "fig, ax = plt.subplots(figsize=(12,10))\n",
        "sns.heatmap(pd.crosstab(np.argmax(y_test, axis=1), \n",
        "                        classify_images(X_test, model), \n",
        "                        normalize='index'),\n",
        "            cmap='vlag',\n",
        "            ax=ax)"
      ],
      "metadata": {
        "colab": {
          "base_uri": "https://localhost:8080/",
          "height": 623
        },
        "id": "vW0mgnAEVvyz",
        "outputId": "9d2fcb99-014a-4e61-e47f-1656e84eb572"
      },
      "execution_count": null,
      "outputs": [
        {
          "output_type": "execute_result",
          "data": {
            "text/plain": [
              "<matplotlib.axes._subplots.AxesSubplot at 0x7f43c196a250>"
            ]
          },
          "metadata": {},
          "execution_count": 33
        },
        {
          "output_type": "display_data",
          "data": {
            "text/plain": [
              "<Figure size 864x720 with 2 Axes>"
            ],
            "image/png": "[encoded data removed]"
          },
          "metadata": {
            "needs_background": "light"
          }
        }
      ]
    },
    {
      "cell_type": "code",
      "source": [
        "# see the confusion matrix of the test\n",
        "#we can see our model classifies genelrally the planes in Boeing\n",
        "fig, ax = plt.subplots(figsize=(12,10))\n",
        "sns.heatmap(pd.crosstab(test_df[TARGET_NAME2], \n",
        "                        classify_images(X_test, model, test_df[TARGET_NAME2].astype('category').cat.categories), \n",
        "                        normalize='index'),\n",
        "            cmap='vlag',\n",
        "            ax=ax)"
      ],
      "metadata": {
        "colab": {
          "base_uri": "https://localhost:8080/",
          "height": 718
        },
        "id": "yIlNvfrsWCLU",
        "outputId": "2b3f794c-3dad-4fe4-e102-f8f8520d9ce9"
      },
      "execution_count": null,
      "outputs": [
        {
          "output_type": "execute_result",
          "data": {
            "text/plain": [
              "<matplotlib.axes._subplots.AxesSubplot at 0x7f43c180a650>"
            ]
          },
          "metadata": {},
          "execution_count": 34
        },
        {
          "output_type": "display_data",
          "data": {
            "text/plain": [
              "<Figure size 864x720 with 2 Axes>"
            ],
            "image/png": "[encoded data removed]"
          },
          "metadata": {
            "needs_background": "light"
          }
        }
      ]
    },
    {
      "cell_type": "code",
      "source": [
        "# function save_model\n",
        "#import datetime\n",
        "#def save_model(model, basename):\n",
        "  # \"\"\"Save tf/Keras model\n",
        "\n",
        "  # Model file is named model + timestamp.\n",
        "\n",
        "  # Parameters\n",
        "  # ----------\n",
        "  # model (tf/Keras model): model to be saved\n",
        "  # basename: location to save model file\n",
        "  # \"\"\"\n",
        "  # model.save('{}_{}.h5'.format(basename, datetime.datetime.now().strftime('%Y-%m-%d_%H-%M-%S')))\n",
        "  # return"
      ],
      "metadata": {
        "id": "pGAjy_yGWCCJ"
      },
      "execution_count": null,
      "outputs": []
    },
    {
      "cell_type": "code",
      "source": [
        "# function save_model\n",
        "import datetime\n",
        "def save_model(model, basename):\n",
        "  \"\"\"Save tf/Keras model\n",
        "\n",
        "  Model file is named model + timestamp.\n",
        "\n",
        "  Parameters\n",
        "  ----------\n",
        "  model (tf/Keras model): model to be saved\n",
        "  basename: location to save model file\n",
        "  \"\"\"\n",
        "  model.save('{}.h5'.format(basename))\n",
        "  return"
      ],
      "metadata": {
        "id": "a1rwitoQ_sHn"
      },
      "execution_count": null,
      "outputs": []
    },
    {
      "cell_type": "code",
      "source": [
        "from google.colab import drive\n",
        "drive.mount('/content/drive')"
      ],
      "metadata": {
        "colab": {
          "base_uri": "https://localhost:8080/"
        },
        "id": "Qsl5nTtrPWy5",
        "outputId": "ce647f48-0d04-4a8e-d2c2-d5694a480d58"
      },
      "execution_count": null,
      "outputs": [
        {
          "output_type": "stream",
          "name": "stdout",
          "text": [
            "Drive already mounted at /content/drive; to attempt to forcibly remount, call drive.mount(\"/content/drive\", force_remount=True).\n"
          ]
        }
      ]
    },
    {
      "cell_type": "code",
      "source": [
        "# apply the function save_model()\n",
        "save_model(model, TARGET_NAME2)"
      ],
      "metadata": {
        "id": "93dDLFIaWB_Y"
      },
      "execution_count": null,
      "outputs": []
    },
    {
      "cell_type": "code",
      "source": [
        "# relodded the model\n",
        "#reloaded_model = load_model('/content/dataset/data_2022-04-05_19-38-28.h5')"
      ],
      "metadata": {
        "id": "7AEJVxSnWB8m"
      },
      "execution_count": null,
      "outputs": []
    },
    {
      "cell_type": "code",
      "source": [
        "# prediction with the model reloaded\n",
        "#np.argmax(reloaded_model.predict(X_test[10:20]), axis=1)"
      ],
      "metadata": {
        "id": "tEqXpmFHW-4y"
      },
      "execution_count": null,
      "outputs": []
    },
    {
      "cell_type": "code",
      "source": [
        ""
      ],
      "metadata": {
        "id": "Oi91HNRyFA7K"
      },
      "execution_count": null,
      "outputs": []
    },
    {
      "cell_type": "markdown",
      "source": [
        "## SVM: DERNIERE VERSION"
      ],
      "metadata": {
        "id": "pY8QNpsQaW_E"
      }
    },
    {
      "cell_type": "code",
      "source": [
        "from sklearn.svm import SVC\n",
        "from sklearn.metrics import accuracy_score\n",
        "from sklearn.metrics import confusion_matrix\n",
        "import pickle\n",
        "import seaborn as sns\n",
        "import matplotlib as plt"
      ],
      "metadata": {
        "id": "QITM8O2gad9-"
      },
      "execution_count": null,
      "outputs": []
    },
    {
      "cell_type": "code",
      "source": [
        "# Suppert vector machine\n",
        "\n",
        "svc = SVC(kernel=\"linear\", gamma = \"auto\")"
      ],
      "metadata": {
        "id": "W1h_5SuGa482"
      },
      "execution_count": null,
      "outputs": []
    },
    {
      "cell_type": "code",
      "source": [
        "X_train.shape"
      ],
      "metadata": {
        "colab": {
          "base_uri": "https://localhost:8080/"
        },
        "id": "0bzERaW685gN",
        "outputId": "4f0e2e74-3785-42bb-8f4d-a6ea0ae819a0"
      },
      "execution_count": null,
      "outputs": [
        {
          "output_type": "execute_result",
          "data": {
            "text/plain": [
              "(3334, 128, 128, 3)"
            ]
          },
          "metadata": {},
          "execution_count": 34
        }
      ]
    },
    {
      "cell_type": "code",
      "source": [
        ""
      ],
      "metadata": {
        "colab": {
          "base_uri": "https://localhost:8080/"
        },
        "id": "F5biz6It-jnA",
        "outputId": "1d8d68bd-a0a7-44b5-d01e-08ac5a954b17"
      },
      "execution_count": null,
      "outputs": [
        {
          "output_type": "execute_result",
          "data": {
            "text/plain": [
              "array([[[[0.85882353, 0.85882353, 0.85882353],\n",
              "         [0.85882353, 0.85882353, 0.85882353],\n",
              "         [0.85882353, 0.85882353, 0.85882353],\n",
              "         ...,\n",
              "         [0.87058824, 0.87058824, 0.87058824],\n",
              "         [0.86666667, 0.86666667, 0.86666667],\n",
              "         [0.86666667, 0.86666667, 0.86666667]],\n",
              "\n",
              "        [[0.85490196, 0.85490196, 0.85490196],\n",
              "         [0.85490196, 0.85490196, 0.85490196],\n",
              "         [0.85490196, 0.85490196, 0.85490196],\n",
              "         ...,\n",
              "         [0.86666667, 0.86666667, 0.86666667],\n",
              "         [0.86666667, 0.86666667, 0.86666667],\n",
              "         [0.86666667, 0.86666667, 0.86666667]],\n",
              "\n",
              "        [[0.85490196, 0.85490196, 0.85490196],\n",
              "         [0.85490196, 0.85490196, 0.85490196],\n",
              "         [0.85490196, 0.85490196, 0.85490196],\n",
              "         ...,\n",
              "         [0.8627451 , 0.8627451 , 0.8627451 ],\n",
              "         [0.8627451 , 0.8627451 , 0.8627451 ],\n",
              "         [0.8627451 , 0.8627451 , 0.8627451 ]],\n",
              "\n",
              "        ...,\n",
              "\n",
              "        [[0.41176471, 0.41176471, 0.41176471],\n",
              "         [0.41960784, 0.41960784, 0.41960784],\n",
              "         [0.40392157, 0.40392157, 0.40392157],\n",
              "         ...,\n",
              "         [0.16470588, 0.16470588, 0.16862745],\n",
              "         [0.12156863, 0.1254902 , 0.1254902 ],\n",
              "         [0.17647059, 0.18039216, 0.18039216]],\n",
              "\n",
              "        [[0.20784314, 0.21568627, 0.22745098],\n",
              "         [0.16470588, 0.17254902, 0.18431373],\n",
              "         [0.18823529, 0.19607843, 0.20784314],\n",
              "         ...,\n",
              "         [0.16470588, 0.17647059, 0.18431373],\n",
              "         [0.30196078, 0.35686275, 0.38823529],\n",
              "         [0.14117647, 0.16470588, 0.18039216]],\n",
              "\n",
              "        [[0.12941176, 0.14901961, 0.16862745],\n",
              "         [0.12156863, 0.13333333, 0.14901961],\n",
              "         [0.14509804, 0.16470588, 0.18431373],\n",
              "         ...,\n",
              "         [0.11372549, 0.12156863, 0.1254902 ],\n",
              "         [0.26666667, 0.32156863, 0.34901961],\n",
              "         [0.        , 0.        , 0.00392157]]],\n",
              "\n",
              "\n",
              "       [[[0.83137255, 0.83137255, 0.83137255],\n",
              "         [0.8627451 , 0.8627451 , 0.8627451 ],\n",
              "         [0.76862745, 0.76862745, 0.76862745],\n",
              "         ...,\n",
              "         [0.54117647, 0.54117647, 0.54117647],\n",
              "         [0.50980392, 0.50980392, 0.50980392],\n",
              "         [0.50980392, 0.50980392, 0.50980392]],\n",
              "\n",
              "        [[0.56078431, 0.56078431, 0.56078431],\n",
              "         [0.55686275, 0.55686275, 0.55686275],\n",
              "         [0.58039216, 0.58039216, 0.58039216],\n",
              "         ...,\n",
              "         [0.36862745, 0.36862745, 0.36862745],\n",
              "         [0.34901961, 0.34901961, 0.34901961],\n",
              "         [0.35294118, 0.35294118, 0.35294118]],\n",
              "\n",
              "        [[0.28627451, 0.28627451, 0.28627451],\n",
              "         [0.2627451 , 0.2627451 , 0.2627451 ],\n",
              "         [0.42352941, 0.42352941, 0.42352941],\n",
              "         ...,\n",
              "         [0.40392157, 0.40392157, 0.40392157],\n",
              "         [0.36470588, 0.36470588, 0.36470588],\n",
              "         [0.34901961, 0.34901961, 0.34901961]],\n",
              "\n",
              "        ...,\n",
              "\n",
              "        [[0.45490196, 0.45490196, 0.45490196],\n",
              "         [0.42745098, 0.42352941, 0.42352941],\n",
              "         [0.42352941, 0.42352941, 0.42352941],\n",
              "         ...,\n",
              "         [0.7372549 , 0.74117647, 0.74117647],\n",
              "         [0.71764706, 0.71764706, 0.72156863],\n",
              "         [0.71764706, 0.72156863, 0.7254902 ]],\n",
              "\n",
              "        [[0.22352941, 0.23137255, 0.24313725],\n",
              "         [0.14509804, 0.15294118, 0.16078431],\n",
              "         [0.14509804, 0.15294118, 0.16078431],\n",
              "         ...,\n",
              "         [0.16078431, 0.17254902, 0.18039216],\n",
              "         [0.29411765, 0.34901961, 0.38039216],\n",
              "         [0.14117647, 0.16470588, 0.18039216]],\n",
              "\n",
              "        [[0.14117647, 0.16078431, 0.18039216],\n",
              "         [0.1372549 , 0.15686275, 0.17647059],\n",
              "         [0.17254902, 0.19215686, 0.21568627],\n",
              "         ...,\n",
              "         [0.14509804, 0.15686275, 0.16078431],\n",
              "         [0.30588235, 0.36470588, 0.4       ],\n",
              "         [0.        , 0.        , 0.00392157]]],\n",
              "\n",
              "\n",
              "       [[[0.51372549, 0.65490196, 0.80392157],\n",
              "         [0.5254902 , 0.65882353, 0.80784314],\n",
              "         [0.5254902 , 0.65882353, 0.81176471],\n",
              "         ...,\n",
              "         [0.51372549, 0.68235294, 0.81960784],\n",
              "         [0.50980392, 0.67843137, 0.81960784],\n",
              "         [0.50588235, 0.6745098 , 0.81176471]],\n",
              "\n",
              "        [[0.52941176, 0.6627451 , 0.80784314],\n",
              "         [0.5372549 , 0.65882353, 0.80784314],\n",
              "         [0.53333333, 0.66666667, 0.79607843],\n",
              "         ...,\n",
              "         [0.52156863, 0.68627451, 0.81568627],\n",
              "         [0.50980392, 0.68627451, 0.81176471],\n",
              "         [0.51372549, 0.68627451, 0.81568627]],\n",
              "\n",
              "        [[0.53333333, 0.6745098 , 0.80784314],\n",
              "         [0.54901961, 0.68627451, 0.82352941],\n",
              "         [0.53333333, 0.68235294, 0.80784314],\n",
              "         ...,\n",
              "         [0.51372549, 0.69019608, 0.81176471],\n",
              "         [0.50588235, 0.69411765, 0.80784314],\n",
              "         [0.51372549, 0.69411765, 0.81568627]],\n",
              "\n",
              "        ...,\n",
              "\n",
              "        [[0.34117647, 0.30588235, 0.14509804],\n",
              "         [0.30588235, 0.22745098, 0.0627451 ],\n",
              "         [0.25098039, 0.16862745, 0.03529412],\n",
              "         ...,\n",
              "         [0.44705882, 0.36862745, 0.28235294],\n",
              "         [0.38431373, 0.28235294, 0.21960784],\n",
              "         [0.37647059, 0.29803922, 0.23921569]],\n",
              "\n",
              "        [[0.03921569, 0.2627451 , 0.2627451 ],\n",
              "         [0.03529412, 0.25882353, 0.26666667],\n",
              "         [0.02745098, 0.22745098, 0.23529412],\n",
              "         ...,\n",
              "         [0.02352941, 0.12156863, 0.12941176],\n",
              "         [0.02352941, 0.22745098, 0.23921569],\n",
              "         [0.02352941, 0.2       , 0.21176471]],\n",
              "\n",
              "        [[0.03921569, 0.14509804, 0.14901961],\n",
              "         [0.03529412, 0.18039216, 0.18823529],\n",
              "         [0.03137255, 0.25882353, 0.26666667],\n",
              "         ...,\n",
              "         [0.03921569, 0.17254902, 0.18039216],\n",
              "         [0.03529412, 0.26666667, 0.27843137],\n",
              "         [0.03137255, 0.18431373, 0.19607843]]],\n",
              "\n",
              "\n",
              "       ...,\n",
              "\n",
              "\n",
              "       [[[0.50196078, 0.52941176, 0.51372549],\n",
              "         [0.50196078, 0.5254902 , 0.51764706],\n",
              "         [0.50588235, 0.52941176, 0.51764706],\n",
              "         ...,\n",
              "         [0.50196078, 0.5372549 , 0.52156863],\n",
              "         [0.50196078, 0.5372549 , 0.51372549],\n",
              "         [0.50196078, 0.5372549 , 0.51764706]],\n",
              "\n",
              "        [[0.50588235, 0.5254902 , 0.51764706],\n",
              "         [0.50588235, 0.5254902 , 0.52156863],\n",
              "         [0.50588235, 0.5254902 , 0.51764706],\n",
              "         ...,\n",
              "         [0.50588235, 0.52941176, 0.51372549],\n",
              "         [0.50588235, 0.53333333, 0.51372549],\n",
              "         [0.50588235, 0.53333333, 0.52156863]],\n",
              "\n",
              "        [[0.50588235, 0.5254902 , 0.50980392],\n",
              "         [0.49803922, 0.5254902 , 0.51372549],\n",
              "         [0.50196078, 0.5254902 , 0.51372549],\n",
              "         ...,\n",
              "         [0.50588235, 0.52941176, 0.51372549],\n",
              "         [0.50588235, 0.52941176, 0.51372549],\n",
              "         [0.50588235, 0.52941176, 0.51372549]],\n",
              "\n",
              "        ...,\n",
              "\n",
              "        [[0.29803922, 0.23921569, 0.15294118],\n",
              "         [0.28627451, 0.23137255, 0.1254902 ],\n",
              "         [0.28235294, 0.21176471, 0.10980392],\n",
              "         ...,\n",
              "         [0.28627451, 0.24313725, 0.14901961],\n",
              "         [0.28235294, 0.24705882, 0.15686275],\n",
              "         [0.28235294, 0.25098039, 0.16078431]],\n",
              "\n",
              "        [[0.44705882, 0.45098039, 0.45098039],\n",
              "         [0.4       , 0.4       , 0.40392157],\n",
              "         [0.25098039, 0.24705882, 0.25490196],\n",
              "         ...,\n",
              "         [0.45098039, 0.47843137, 0.50196078],\n",
              "         [0.37254902, 0.4       , 0.42352941],\n",
              "         [0.34901961, 0.36470588, 0.38039216]],\n",
              "\n",
              "        [[0.2745098 , 0.2745098 , 0.2745098 ],\n",
              "         [0.31764706, 0.31764706, 0.31764706],\n",
              "         [0.43137255, 0.43529412, 0.43529412],\n",
              "         ...,\n",
              "         [0.51372549, 0.55294118, 0.58431373],\n",
              "         [0.42352941, 0.45882353, 0.49411765],\n",
              "         [0.32156863, 0.33333333, 0.34509804]]],\n",
              "\n",
              "\n",
              "       [[[0.38431373, 0.4627451 , 0.56078431],\n",
              "         [0.37647059, 0.4627451 , 0.56078431],\n",
              "         [0.36862745, 0.4627451 , 0.56078431],\n",
              "         ...,\n",
              "         [0.47843137, 0.54509804, 0.63137255],\n",
              "         [0.48235294, 0.54901961, 0.63529412],\n",
              "         [0.49019608, 0.56078431, 0.63921569]],\n",
              "\n",
              "        [[0.37647059, 0.46666667, 0.56862745],\n",
              "         [0.36470588, 0.4745098 , 0.58039216],\n",
              "         [0.36078431, 0.46666667, 0.57647059],\n",
              "         ...,\n",
              "         [0.47058824, 0.54117647, 0.63529412],\n",
              "         [0.4627451 , 0.54117647, 0.63529412],\n",
              "         [0.47058824, 0.54509804, 0.63529412]],\n",
              "\n",
              "        [[0.36862745, 0.47058824, 0.58039216],\n",
              "         [0.36862745, 0.49019608, 0.60784314],\n",
              "         [0.36078431, 0.49019608, 0.61176471],\n",
              "         ...,\n",
              "         [0.45882353, 0.5372549 , 0.63529412],\n",
              "         [0.4627451 , 0.54117647, 0.63529412],\n",
              "         [0.49411765, 0.55686275, 0.64313725]],\n",
              "\n",
              "        ...,\n",
              "\n",
              "        [[0.0627451 , 0.08235294, 0.10980392],\n",
              "         [0.07058824, 0.08627451, 0.10980392],\n",
              "         [0.07058824, 0.08627451, 0.10980392],\n",
              "         ...,\n",
              "         [0.07058824, 0.08235294, 0.10588235],\n",
              "         [0.07843137, 0.09411765, 0.11764706],\n",
              "         [0.08235294, 0.09411765, 0.11764706]],\n",
              "\n",
              "        [[0.15294118, 0.16470588, 0.18039216],\n",
              "         [0.09803922, 0.10980392, 0.12941176],\n",
              "         [0.10196078, 0.11764706, 0.13333333],\n",
              "         ...,\n",
              "         [0.21568627, 0.23921569, 0.2627451 ],\n",
              "         [0.16078431, 0.18039216, 0.2       ],\n",
              "         [0.16470588, 0.18823529, 0.20784314]],\n",
              "\n",
              "        [[0.14117647, 0.15294118, 0.16862745],\n",
              "         [0.15686275, 0.17647059, 0.18823529],\n",
              "         [0.14509804, 0.15686275, 0.16862745],\n",
              "         ...,\n",
              "         [0.4       , 0.44313725, 0.4627451 ],\n",
              "         [0.20392157, 0.23137255, 0.24705882],\n",
              "         [0.12941176, 0.15686275, 0.17254902]]],\n",
              "\n",
              "\n",
              "       [[[0.36470588, 0.41176471, 0.45098039],\n",
              "         [0.37254902, 0.42352941, 0.45098039],\n",
              "         [0.38039216, 0.43137255, 0.4627451 ],\n",
              "         ...,\n",
              "         [0.39607843, 0.43529412, 0.4745098 ],\n",
              "         [0.38823529, 0.43137255, 0.45490196],\n",
              "         [0.37254902, 0.42352941, 0.45882353]],\n",
              "\n",
              "        [[0.36470588, 0.41568627, 0.44705882],\n",
              "         [0.37647059, 0.42745098, 0.45490196],\n",
              "         [0.38039216, 0.43137255, 0.45882353],\n",
              "         ...,\n",
              "         [0.39215686, 0.43921569, 0.4745098 ],\n",
              "         [0.38823529, 0.43137255, 0.46666667],\n",
              "         [0.38431373, 0.42352941, 0.4627451 ]],\n",
              "\n",
              "        [[0.37254902, 0.42352941, 0.44705882],\n",
              "         [0.38039216, 0.43137255, 0.45098039],\n",
              "         [0.38431373, 0.43137255, 0.4627451 ],\n",
              "         ...,\n",
              "         [0.4       , 0.44313725, 0.47843137],\n",
              "         [0.38823529, 0.43529412, 0.4627451 ],\n",
              "         [0.38431373, 0.42745098, 0.45490196]],\n",
              "\n",
              "        ...,\n",
              "\n",
              "        [[0.43921569, 0.45098039, 0.38431373],\n",
              "         [0.45098039, 0.45882353, 0.39607843],\n",
              "         [0.40784314, 0.42352941, 0.35294118],\n",
              "         ...,\n",
              "         [0.50980392, 0.52156863, 0.45490196],\n",
              "         [0.51372549, 0.53333333, 0.47058824],\n",
              "         [0.51372549, 0.53333333, 0.46666667]],\n",
              "\n",
              "        [[0.36862745, 0.37254902, 0.36862745],\n",
              "         [0.46666667, 0.46666667, 0.4627451 ],\n",
              "         [0.20392157, 0.20784314, 0.20784314],\n",
              "         ...,\n",
              "         [0.36862745, 0.39215686, 0.40392157],\n",
              "         [0.35294118, 0.38039216, 0.38823529],\n",
              "         [0.21568627, 0.22352941, 0.22745098]],\n",
              "\n",
              "        [[0.22352941, 0.22352941, 0.22745098],\n",
              "         [0.38431373, 0.38431373, 0.38431373],\n",
              "         [0.42745098, 0.42745098, 0.43137255],\n",
              "         ...,\n",
              "         [0.49019608, 0.52156863, 0.55294118],\n",
              "         [0.4       , 0.43137255, 0.45490196],\n",
              "         [0.18039216, 0.18823529, 0.19215686]]]])"
            ]
          },
          "metadata": {},
          "execution_count": 99
        }
      ]
    },
    {
      "cell_type": "code",
      "source": [
        "# créer les flatten base de donnés (entre 0 et 1)\n",
        "X_train_scaled_s = X_train / 255\n",
        "X_test_scaled_s = X_test / 255"
      ],
      "metadata": {
        "id": "lXLmxBl_b369"
      },
      "execution_count": null,
      "outputs": []
    },
    {
      "cell_type": "code",
      "source": [
        "lenofimage = len(X_train_scaled_s)\n",
        "lenofimagetest = len(X_test_scaled_s)"
      ],
      "metadata": {
        "id": "bIB-NA82a59c"
      },
      "execution_count": null,
      "outputs": []
    },
    {
      "cell_type": "code",
      "source": [
        "# redimensionnement\n",
        "X_train_scaled_svc_s = X_train_scaled_s.reshape(lenofimage, -1) \n",
        "X_test_scaled_svc_s = X_test_scaled_s.reshape(lenofimagetest, -1) "
      ],
      "metadata": {
        "id": "LKkrpPJ7bE1G"
      },
      "execution_count": null,
      "outputs": []
    },
    {
      "cell_type": "code",
      "source": [
        "y_train_svm.shape"
      ],
      "metadata": {
        "colab": {
          "base_uri": "https://localhost:8080/"
        },
        "id": "3a5DRL6ylanO",
        "outputId": "7ee45d79-ec0f-459f-cc8b-3b535785a40a"
      },
      "execution_count": null,
      "outputs": [
        {
          "output_type": "execute_result",
          "data": {
            "text/plain": [
              "(3334,)"
            ]
          },
          "metadata": {},
          "execution_count": 48
        }
      ]
    },
    {
      "cell_type": "code",
      "source": [
        "# Fiter le modèle\n",
        "svc.fit(X_train_scaled_svc_s, y_train_svm)"
      ],
      "metadata": {
        "id": "-rFyEJbZbKHt",
        "colab": {
          "base_uri": "https://localhost:8080/"
        },
        "outputId": "c9d8d438-e918-4131-b035-1875541c10db"
      },
      "execution_count": null,
      "outputs": [
        {
          "output_type": "execute_result",
          "data": {
            "text/plain": [
              "SVC(gamma='auto', kernel='linear')"
            ]
          },
          "metadata": {},
          "execution_count": 69
        }
      ]
    },
    {
      "cell_type": "code",
      "source": [
        "y_predict_train=svc.predict(X_train_scaled_svc_s)"
      ],
      "metadata": {
        "id": "zRn6-HbH8I_P"
      },
      "execution_count": null,
      "outputs": []
    },
    {
      "cell_type": "code",
      "source": [
        "# Faire une prédiction pour voir\n",
        "y_predict = svc.predict(X_test_scaled_svc_s)"
      ],
      "metadata": {
        "id": "PGrKaMP9bNRh"
      },
      "execution_count": null,
      "outputs": []
    },
    {
      "cell_type": "code",
      "source": [
        "svc.predict(X_test_scaled_svc_s)"
      ],
      "metadata": {
        "colab": {
          "base_uri": "https://localhost:8080/"
        },
        "id": "F-vDAJxD5C2V",
        "outputId": "98e53ad7-b3ac-46f3-c148-d582e5d1ed88"
      },
      "execution_count": null,
      "outputs": [
        {
          "output_type": "execute_result",
          "data": {
            "text/plain": [
              "array([15, 15, 58, ..., 67, 67, 56], dtype=int8)"
            ]
          },
          "metadata": {},
          "execution_count": 71
        }
      ]
    },
    {
      "cell_type": "code",
      "source": [
        "# creating a confusion matrix\n",
        "cm_lin = confusion_matrix(y_test_svm, y_predict)\n"
      ],
      "metadata": {
        "id": "koWbEdhJ3iCh"
      },
      "execution_count": null,
      "outputs": []
    },
    {
      "cell_type": "code",
      "source": [
        "plt.figure(figsize=(12,10))\n",
        "sns.heatmap(pd.crosstab(y_test_svm,  y_predict,\n",
        "                        normalize='index'),\n",
        "            cmap='vlag'\n",
        "            )\n"
      ],
      "metadata": {
        "colab": {
          "base_uri": "https://localhost:8080/",
          "height": 623
        },
        "id": "3Phqishu4OD0",
        "outputId": "5a4867c0-0738-424a-fa0b-17c9c86b10d0"
      },
      "execution_count": null,
      "outputs": [
        {
          "output_type": "execute_result",
          "data": {
            "text/plain": [
              "<matplotlib.axes._subplots.AxesSubplot at 0x7f3d1bd656d0>"
            ]
          },
          "metadata": {},
          "execution_count": 93
        },
        {
          "output_type": "display_data",
          "data": {
            "text/plain": [
              "<Figure size 864x720 with 2 Axes>"
            ],
            "image/png": "[encoded data removed]"
          },
          "metadata": {
            "needs_background": "light"
          }
        }
      ]
    },
    {
      "cell_type": "code",
      "source": [
        ""
      ],
      "metadata": {
        "id": "DHjenWsS441z"
      },
      "execution_count": null,
      "outputs": []
    },
    {
      "cell_type": "code",
      "source": [
        "# see the confusion matrix in the train\n",
        "fig, ax = plt.subplots(figsize=(12,10))\n",
        "sns.heatmap(pd.crosstab(y_train_svm, \n",
        "                        y_predict_train, \n",
        "                        normalize='index'),\n",
        "            cmap='vlag')\n",
        "           "
      ],
      "metadata": {
        "colab": {
          "base_uri": "https://localhost:8080/",
          "height": 627
        },
        "id": "sU5ss0yctciB",
        "outputId": "f90bc190-e704-4765-8db2-0a983f624892"
      },
      "execution_count": null,
      "outputs": [
        {
          "output_type": "execute_result",
          "data": {
            "text/plain": [
              "<matplotlib.axes._subplots.AxesSubplot at 0x7f3d08489ed0>"
            ]
          },
          "metadata": {},
          "execution_count": 96
        },
        {
          "output_type": "display_data",
          "data": {
            "text/plain": [
              "<Figure size 864x720 with 2 Axes>"
            ],
            "image/png": "[encoded data removed]"
          },
          "metadata": {
            "needs_background": "light"
          }
        }
      ]
    },
    {
      "cell_type": "code",
      "source": [
        ""
      ],
      "metadata": {
        "colab": {
          "base_uri": "https://localhost:8080/"
        },
        "id": "j4abrnbUDcsb",
        "outputId": "e00070f8-b710-4c49-bd77-cd3b3c973a6a"
      },
      "execution_count": null,
      "outputs": [
        {
          "output_type": "execute_result",
          "data": {
            "text/plain": [
              "<bound method Series.unique of 0       Boeing 707\n",
              "1       Boeing 707\n",
              "2       Boeing 707\n",
              "3       Boeing 707\n",
              "4       Boeing 707\n",
              "           ...    \n",
              "3329        Yak-42\n",
              "3330        Yak-42\n",
              "3331        Yak-42\n",
              "3332        Yak-42\n",
              "3333        Yak-42\n",
              "Name: family, Length: 3334, dtype: object>"
            ]
          },
          "metadata": {},
          "execution_count": 118
        }
      ]
    },
    {
      "cell_type": "code",
      "source": [
        "fig, ax = plt.subplots(figsize=(12,10))\n",
        "sns.heatmap(pd.crosstab(train_df[TARGET_NAME2], \n",
        "                        y_predict_train, \n",
        "                        normalize='index'),\n",
        "            cmap='vlag')"
      ],
      "metadata": {
        "colab": {
          "base_uri": "https://localhost:8080/",
          "height": 627
        },
        "id": "A2ILpI1Q0KvS",
        "outputId": "ab1020a9-e07a-4e26-fa56-21d8f254838e"
      },
      "execution_count": null,
      "outputs": [
        {
          "output_type": "execute_result",
          "data": {
            "text/plain": [
              "<matplotlib.axes._subplots.AxesSubplot at 0x7f3d0796c390>"
            ]
          },
          "metadata": {},
          "execution_count": 112
        },
        {
          "output_type": "display_data",
          "data": {
            "text/plain": [
              "<Figure size 864x720 with 2 Axes>"
            ],
            "image/png": "[encoded data removed]"
          },
          "metadata": {
            "needs_background": "light"
          }
        }
      ]
    },
    {
      "cell_type": "code",
      "source": [
        "test_df[TARGET_NAME2]"
      ],
      "metadata": {
        "colab": {
          "base_uri": "https://localhost:8080/"
        },
        "id": "LlnxYwVSA28h",
        "outputId": "14223f87-4ece-4b66-a6c8-28bf19b51534"
      },
      "execution_count": null,
      "outputs": [
        {
          "output_type": "execute_result",
          "data": {
            "text/plain": [
              "0       Boeing 707\n",
              "1       Boeing 707\n",
              "2       Boeing 707\n",
              "3       Boeing 707\n",
              "4       Boeing 707\n",
              "           ...    \n",
              "3328        Yak-42\n",
              "3329        Yak-42\n",
              "3330        Yak-42\n",
              "3331        Yak-42\n",
              "3332        Yak-42\n",
              "Name: family, Length: 3333, dtype: object"
            ]
          },
          "metadata": {},
          "execution_count": 109
        }
      ]
    },
    {
      "cell_type": "code",
      "source": [
        "fig, ax = plt.subplots(figsize=(12, 10))\n",
        "sns.heatmap(pd.crosstab(test_df[TARGET_NAME2],\n",
        "                        y_predict,\n",
        "                        normalize='index'),\n",
        "            cmap='vlag',\n",
        "            );"
      ],
      "metadata": {
        "colab": {
          "base_uri": "https://localhost:8080/",
          "height": 608
        },
        "id": "m3UbFcAA0KY7",
        "outputId": "35e76a1f-5240-4c49-e7b3-010c537916e0"
      },
      "execution_count": null,
      "outputs": [
        {
          "output_type": "display_data",
          "data": {
            "text/plain": [
              "<Figure size 864x720 with 2 Axes>"
            ],
            "image/png": "[encoded data removed]"
          },
          "metadata": {
            "needs_background": "light"
          }
        }
      ]
    },
    {
      "cell_type": "code",
      "source": [
        "\n",
        "print(\"The accuracy of the model is:\", accuracy_score(y_test_svm,y_predict))"
      ],
      "metadata": {
        "colab": {
          "base_uri": "https://localhost:8080/"
        },
        "id": "FQU8E_nz5uH-",
        "outputId": "2bdecb7c-57da-406f-9deb-ed105d5312f6"
      },
      "execution_count": null,
      "outputs": [
        {
          "output_type": "stream",
          "name": "stdout",
          "text": [
            "The accuracy of the model is: 0.285028502850285\n"
          ]
        }
      ]
    },
    {
      "cell_type": "code",
      "source": [
        "#file_dir = '/content/drive/MyDrive/image_classifier/base_dir.h5'\n",
        "#base_model.save(file_dir)"
      ],
      "metadata": {
        "id": "jKDAptnNJXPP"
      },
      "execution_count": null,
      "outputs": []
    },
    {
      "cell_type": "code",
      "source": [
        "# importer le model avec pickle: pour le sauvegarder\n",
        "pick = open(\"family_svc.sav\", \"wb\")\n",
        "pickle.dump(svc,pick)\n",
        "pick.close"
      ],
      "metadata": {
        "id": "OfHz_7wbbQFG",
        "colab": {
          "base_uri": "https://localhost:8080/"
        },
        "outputId": "1cc2de0f-6ec9-4001-8b65-68ecb25b9f59"
      },
      "execution_count": null,
      "outputs": [
        {
          "output_type": "execute_result",
          "data": {
            "text/plain": [
              "<function BufferedWriter.close>"
            ]
          },
          "metadata": {},
          "execution_count": 72
        }
      ]
    },
    {
      "cell_type": "code",
      "source": [
        "# allow to do for the manfacturer without restarting the constants part\n",
        "TARGET_NAME2= TARGET_NAME\n",
        "DATA_DIR_TRAIN_FAMILY=DATA_DIR_TRAIN_MANUFACTURER\n",
        "DATA_DIR_TEST_FAMILY=DATA_DIR_TEST_MANUFACTURER"
      ],
      "metadata": {
        "id": "zwLT7bfj6Vhc"
      },
      "execution_count": null,
      "outputs": []
    },
    {
      "cell_type": "code",
      "source": [
        ""
      ],
      "metadata": {
        "id": "VFGWh7JWFYWy"
      },
      "execution_count": null,
      "outputs": []
    },
    {
      "cell_type": "markdown",
      "source": [
        "# conlusion \n",
        "the SVM model can predict approximately the same thing as the neural network model when we take the manufacturer and the family"
      ],
      "metadata": {
        "id": "FjEI28zPGBh_"
      }
    },
    {
      "cell_type": "code",
      "source": [
        ""
      ],
      "metadata": {
        "id": "NFkQmiucFYRZ"
      },
      "execution_count": null,
      "outputs": []
    }
  ]
}