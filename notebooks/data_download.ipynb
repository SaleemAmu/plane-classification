{
  "nbformat": 4,
  "nbformat_minor": 0,
  "metadata": {
    "colab": {
      "name": "data_download.ipynb",
      "provenance": [],
      "collapsed_sections": [],
      "authorship_tag": "ABX9TyPPHF+xuS6fA2+FiBS4gmq4",
      "include_colab_link": true
    },
    "kernelspec": {
      "name": "python3",
      "display_name": "Python 3"
    },
    "language_info": {
      "name": "python"
    }
  },
  "cells": [
    {
      "cell_type": "markdown",
      "metadata": {
        "id": "view-in-github",
        "colab_type": "text"
      },
      "source": [
        "<a href=\"https://colab.research.google.com/github/SaleemAmu/plane-classification/blob/main/notebooks/data_download.ipynb\" target=\"_parent\"><img src=\"https://colab.research.google.com/assets/colab-badge.svg\" alt=\"Open In Colab\"/></a>"
      ]
    },
    {
      "cell_type": "markdown",
      "source": [
        "# Download images & annotations"
      ],
      "metadata": {
        "id": "1c_XyMh97HCQ"
      }
    },
    {
      "cell_type": "code",
      "execution_count": 2,
      "metadata": {
        "colab": {
          "base_uri": "https://localhost:8080/"
        },
        "id": "nrbyIhc06gr5",
        "outputId": "9dd64879-34b3-4a16-859c-73f025a5b993"
      },
      "outputs": [
        {
          "output_type": "stream",
          "name": "stdout",
          "text": [
            "  % Total    % Received % Xferd  Average Speed   Time    Time     Time  Current\n",
            "                                 Dload  Upload   Total   Spent    Left  Speed\n",
            "100 2625M  100 2625M    0     0  8587k      0  0:05:13  0:05:13 --:--:-- 6614k\n"
          ]
        }
      ],
      "source": [
        "# curl: download data and save to file\n",
        "!curl -O https://www.robots.ox.ac.uk/~vgg/data/fgvc-aircraft/archives/fgvc-aircraft-2013b.tar.gz"
      ]
    },
    {
      "cell_type": "code",
      "source": [
        "# Fichier tar\n",
        "# commandes :\n",
        "#   x : extraire\n",
        "#   t : lister les fichiers sans décompresser\n",
        "#   v : pour avoir du détail (verbose)\n",
        "#   z : pour indiquer que le fichier est compresser\n",
        "#   c : pour créer tarfile\n",
        "#   f: pour spécifier le nom du fichier (en dernier dans la liste des options) \n",
        "\n",
        "# Exemple pour lister les fihiers avant de les décompresser\n",
        "!tar tzvf fgvc-aircraft-2013b.tar.gz"
      ],
      "metadata": {
        "id": "9vF9gWYo9Axs"
      },
      "execution_count": null,
      "outputs": []
    },
    {
      "cell_type": "markdown",
      "source": [
        "# Untar files\n"
      ],
      "metadata": {
        "id": "G5EBoV-BAIaW"
      }
    },
    {
      "cell_type": "code",
      "source": [
        "!tar xzf fgvc-aircraft-2013b.tar.gz"
      ],
      "metadata": {
        "id": "jxNHjDsd_XFD"
      },
      "execution_count": 3,
      "outputs": []
    }
  ]
}