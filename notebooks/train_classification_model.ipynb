{
  "nbformat": 4,
  "nbformat_minor": 0,
  "metadata": {
    "colab": {
      "name": "train_classification_model.ipynb",
      "provenance": [],
      "authorship_tag": "ABX9TyOdtsPbspK1tSMkpYltAP/Q",
      "include_colab_link": true
    },
    "kernelspec": {
      "name": "python3",
      "display_name": "Python 3"
    },
    "language_info": {
      "name": "python"
    }
  },
  "cells": [
    {
      "cell_type": "markdown",
      "metadata": {
        "id": "view-in-github",
        "colab_type": "text"
      },
      "source": [
        "<a href=\"https://colab.research.google.com/github/SaleemAmu/plane-classification/blob/main/notebooks/train_classification_model.ipynb\" target=\"_parent\"><img src=\"https://colab.research.google.com/assets/colab-badge.svg\" alt=\"Open In Colab\"/></a>"
      ]
    },
    {
      "cell_type": "code",
      "execution_count": 1,
      "metadata": {
        "colab": {
          "base_uri": "https://localhost:8080/"
        },
        "id": "HzmWW3FNYuYu",
        "outputId": "82e14c83-e9d5-4221-fd07-c5d63c9d6d1a"
      },
      "outputs": [
        {
          "output_type": "stream",
          "name": "stdout",
          "text": [
            "  % Total    % Received % Xferd  Average Speed   Time    Time     Time  Current\n",
            "                                 Dload  Upload   Total   Spent    Left  Speed\n",
            "100 2625M  100 2625M    0     0  7483k      0  0:05:59  0:05:59 --:--:-- 22.4M\n"
          ]
        }
      ],
      "source": [
        "!curl -O https://www.robots.ox.ac.uk/~vgg/data/fgvc-aircraft/archives/fgvc-aircraft-2013b.tar.gz\n",
        "!tar xzf fgvc-aircraft-2013b.tar.gz\n",
        "!mv fgvc-aircraft-2013b dataset"
      ]
    },
    {
      "cell_type": "code",
      "source": [
        "import pathlib\n",
        " \n",
        "import pandas as pd"
      ],
      "metadata": {
        "id": "GEOSMeNcZVEl"
      },
      "execution_count": 4,
      "outputs": []
    },
    {
      "cell_type": "code",
      "source": [
        "DATA_DIR = pathlib.Path(\"dataset/data\")"
      ],
      "metadata": {
        "id": "tavdUzn5bg-6"
      },
      "execution_count": 6,
      "outputs": []
    },
    {
      "cell_type": "code",
      "source": [
        "manufacturer_df = pd.read_csv(DATA_DIR / 'images_manufacturer_train.txt', sep=\" \",\n",
        "            names =[\"image_id\", \"manufacturer\"],\n",
        "            usecols =['image_id', \"manufacturer\"], # usecols for v1.4 compatibility\n",
        "            dtype = {'image_id': str}, # id are not int but string\n",
        "            ) "
      ],
      "metadata": {
        "id": "X0q-TKl8a4xJ"
      },
      "execution_count": 20,
      "outputs": []
    },
    {
      "cell_type": "code",
      "source": [
        "# Vérifcation des \n",
        "manufacturer_df[\"manufacturer\"].value_counts(dropna=False)"
      ],
      "metadata": {
        "colab": {
          "base_uri": "https://localhost:8080/"
        },
        "id": "y_xKJJw8hUZZ",
        "outputId": "28ffe91e-dd18-4774-fbc8-43ab1b5323cd"
      },
      "execution_count": 21,
      "outputs": [
        {
          "output_type": "execute_result",
          "data": {
            "text/plain": [
              "Boeing         733\n",
              "Airbus         434\n",
              "Embraer        233\n",
              "McDonnell      232\n",
              "de             167\n",
              "Canadair       134\n",
              "Douglas        133\n",
              "Cessna         133\n",
              "British        133\n",
              "Lockheed       102\n",
              "Fokker         100\n",
              "Dassault        67\n",
              "Gulfstream      67\n",
              "Beechcraft      67\n",
              "Saab            67\n",
              "Tupolev         66\n",
              "ATR             66\n",
              "Panavia         34\n",
              "Antonov         34\n",
              "Dornier         34\n",
              "Yakovlev        34\n",
              "Bombardier      33\n",
              "Ilyushin        33\n",
              "Fairchild       33\n",
              "Piper           33\n",
              "Cirrus          33\n",
              "Eurofighter     33\n",
              "Supermarine     33\n",
              "Robin           33\n",
              "Name: manufacturer, dtype: int64"
            ]
          },
          "metadata": {},
          "execution_count": 21
        }
      ]
    },
    {
      "cell_type": "code",
      "source": [
        "manufacturer_df.isna().sum()"
      ],
      "metadata": {
        "colab": {
          "base_uri": "https://localhost:8080/"
        },
        "id": "NZyvcgHmiMZQ",
        "outputId": "76cd5f35-e113-48d1-a5f7-439e5beac342"
      },
      "execution_count": 19,
      "outputs": [
        {
          "output_type": "execute_result",
          "data": {
            "text/plain": [
              "image_id        0\n",
              "manufacturer    0\n",
              "dtype: int64"
            ]
          },
          "metadata": {},
          "execution_count": 19
        }
      ]
    },
    {
      "cell_type": "code",
      "source": [
        "assert manufacturer_df[\"image_id\"].isna().sum() == 0, \"Missing value in image_id\"\n",
        "assert manufacturer_df[\"manufacturer\"].isna().sum() == 0, \"Missing value in manufacturer\""
      ],
      "metadata": {
        "id": "h6sjMmI8iWg0"
      },
      "execution_count": 23,
      "outputs": []
    },
    {
      "cell_type": "markdown",
      "source": [
        "# Vérifier si un caractère est présente dans un fichier\n"
      ],
      "metadata": {
        "id": "zI67-vYSoeVt"
      }
    },
    {
      "cell_type": "code",
      "source": [
        "! grep \",\" dataset/data/images_manufacturer_train.txt "
      ],
      "metadata": {
        "id": "2584oZMvosRo"
      },
      "execution_count": 42,
      "outputs": []
    },
    {
      "cell_type": "code",
      "source": [
        "# recherche de caractère T dans le fichier et n'affiche que les trois premières lignes\n",
        "! grep \"T\" dataset/data/images_manufacturer_train.txt | head -3"
      ],
      "metadata": {
        "colab": {
          "base_uri": "https://localhost:8080/"
        },
        "id": "1n1vc3GspE_x",
        "outputId": "526ff3cd-7dbf-4fce-8f1e-fad4acb6675f"
      },
      "execution_count": 43,
      "outputs": [
        {
          "output_type": "stream",
          "name": "stdout",
          "text": [
            "0724121 ATR\n",
            "0619697 ATR\n",
            "2243949 ATR\n"
          ]
        }
      ]
    },
    {
      "cell_type": "code",
      "source": [
        "# wc: Compte le nombre d'éléments (-l: pour les lignes, -c: pour les caractères, -w: pour les word)\n",
        "! grep \"T\" dataset/data/images_manufacturer_train.txt | wc -l"
      ],
      "metadata": {
        "colab": {
          "base_uri": "https://localhost:8080/"
        },
        "id": "miWt_QXNpR3Y",
        "outputId": "2eff7547-11af-4bfc-bf36-ecac1b9c8ffb"
      },
      "execution_count": 44,
      "outputs": [
        {
          "output_type": "stream",
          "name": "stdout",
          "text": [
            "132\n"
          ]
        }
      ]
    },
    {
      "cell_type": "code",
      "source": [
        "!cut -f 1 -d ' ' dataset/data/images_manufacturer_train.txt | head"
      ],
      "metadata": {
        "colab": {
          "base_uri": "https://localhost:8080/"
        },
        "id": "OQlaHDhcqTpr",
        "outputId": "c03c1145-ee82-446d-a874-6256d8116bc2"
      },
      "execution_count": 45,
      "outputs": [
        {
          "output_type": "stream",
          "name": "stdout",
          "text": [
            "1025794\n",
            "1340192\n",
            "0056978\n",
            "0698580\n",
            "0450014\n",
            "1042824\n",
            "0894380\n",
            "1427680\n",
            "0817494\n",
            "0716386\n"
          ]
        }
      ]
    },
    {
      "cell_type": "code",
      "source": [
        ""
      ],
      "metadata": {
        "id": "5IXZ3gCTqLaS"
      },
      "execution_count": null,
      "outputs": []
    },
    {
      "cell_type": "markdown",
      "source": [
        "# Deal with N columns"
      ],
      "metadata": {
        "id": "ChxzHvcbkibh"
      }
    },
    {
      "cell_type": "markdown",
      "source": [
        "## Make assumptions about number of spaces (here = 2) CETTE METHODE N EST PAS BONNNE"
      ],
      "metadata": {
        "id": "iI6nfRwqlMPS"
      }
    },
    {
      "cell_type": "code",
      "source": [
        "manufacturer_df = pd.read_csv(DATA_DIR / 'images_manufacturer_train.txt', sep=\" \",\n",
        "            names =[\"image_id\", \"m1\", \"m2\"],\n",
        "            usecols =['image_id', \"m1\", \"m2\"], # usecols for v1.4 compatibility\n",
        "            dtype = {'image_id': str}, # id are not int but string\n",
        "            ) \n",
        "\n",
        "manufacturer_df[\"manufacturer\"] = manufacturer_df[\"m1\"] + ' ' + manufacturer_df[\"m2\"] # PAS BON\n",
        "\n",
        "manufacturer_df[\"manufacturer\"].unique()"
      ],
      "metadata": {
        "colab": {
          "base_uri": "https://localhost:8080/"
        },
        "id": "EzhYINdYkes0",
        "outputId": "51d06802-f557-4af2-96d7-3931f8cb9f65"
      },
      "execution_count": 25,
      "outputs": [
        {
          "output_type": "execute_result",
          "data": {
            "text/plain": [
              "array([nan, 'British Aerospace', 'Lockheed Corporation',\n",
              "       'Douglas Aircraft', 'McDonnell Douglas', 'de Havilland',\n",
              "       'Lockheed Martin', 'Dassault Aviation', 'Bombardier Aerospace',\n",
              "       'Gulfstream Aerospace', 'Cirrus Aircraft'], dtype=object)"
            ]
          },
          "metadata": {},
          "execution_count": 25
        }
      ]
    },
    {
      "cell_type": "code",
      "source": [
        "manufacturer_df = pd.read_csv(DATA_DIR / 'images_manufacturer_train.txt', sep=\"\\t\",\n",
        "            names =[\"all\"],\n",
        "            dtype = {'all': str}, # id are not int but string\n",
        "            ) \n",
        "\n",
        "# La fonction split() découpe une chaine de caractère\n",
        "\n",
        "manufacturer_df[\"image_id\"] = manufacturer_df[\"all\"].apply(lambda x: x.split(' ')[0])\n",
        "\n",
        "# La fonction \"<car>\".join(liste) concatène les éléments de liste en utilisant le séparateur <car>\n",
        "manufacturer_df[\"manufacturer\"] = manufacturer_df[\"all\"].apply(lambda x: ' '.join(x.split(\" \")[1:]))"
      ],
      "metadata": {
        "id": "oqg_uq2UlXnR"
      },
      "execution_count": 40,
      "outputs": []
    },
    {
      "cell_type": "markdown",
      "source": [
        ""
      ],
      "metadata": {
        "id": "YC6_mqtWnPx2"
      }
    },
    {
      "cell_type": "code",
      "source": [
        "manufacturer_df[\"manufacturer\"].unique()\n"
      ],
      "metadata": {
        "colab": {
          "base_uri": "https://localhost:8080/"
        },
        "id": "oXNvK98ilqwE",
        "outputId": "cf68a21c-3614-4482-cdc8-93552e2db71e"
      },
      "execution_count": 41,
      "outputs": [
        {
          "output_type": "execute_result",
          "data": {
            "text/plain": [
              "array(['Boeing', 'Airbus', 'ATR', 'Antonov', 'British Aerospace',\n",
              "       'Beechcraft', 'Lockheed Corporation', 'Douglas Aircraft Company',\n",
              "       'Canadair', 'Cessna', 'McDonnell Douglas', 'de Havilland', 'Robin',\n",
              "       'Dornier', 'Embraer', 'Eurofighter', 'Lockheed Martin',\n",
              "       'Dassault Aviation', 'Fokker', 'Bombardier Aerospace',\n",
              "       'Gulfstream Aerospace', 'Ilyushin', 'Fairchild', 'Piper',\n",
              "       'Cirrus Aircraft', 'Saab', 'Supermarine', 'Panavia', 'Tupolev',\n",
              "       'Yakovlev'], dtype=object)"
            ]
          },
          "metadata": {},
          "execution_count": 41
        }
      ]
    }
  ]
}